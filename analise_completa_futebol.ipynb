{
 "cells": [
  {
   "cell_type": "markdown",
   "id": "e16ef726",
   "metadata": {},
   "source": [
    "# Análise Completa de Futebol - Kaggle\n",
    "\n",
    "Este notebook combina toda a análise de dados de futebol, desde o processamento inicial dos dados até a aplicação de algoritmos de machine learning para predição de colocações.\n",
    "\n",
    "## Estrutura:\n",
    "1. **Análise e Processamento de Dados** - Limpeza e preparação dos datasets\n",
    "2. **Preparação para Predição** - Organização dos dados para machine learning  \n",
    "3. **Aplicação do KNN** - Modelo de predição usando K-Nearest Neighbors\n",
    "\n",
    "---\n"
   ]
  },
  {
   "cell_type": "markdown",
   "id": "5b7c02ec",
   "metadata": {},
   "source": [
    "\n",
    "---\n",
    "\n",
    "# Parte 1: Análise e Processamento de Dados\n",
    "\n",
    "---\n"
   ]
  },
  {
   "cell_type": "markdown",
   "id": "d8957cf2",
   "metadata": {},
   "source": [
    "Vamos Começar!"
   ]
  },
  {
   "cell_type": "code",
   "execution_count": null,
   "id": "808bdf4b",
   "metadata": {},
   "outputs": [],
   "source": [
    "import pandas as pd\n",
    "import numpy as np\n",
    "import csv\n"
   ]
  },
  {
   "cell_type": "code",
   "execution_count": null,
   "id": "bf8ac607",
   "metadata": {},
   "outputs": [],
   "source": [
    "df_appearances = pd.read_csv('archive/appearances.csv')\n",
    "df_appearances.head(20)"
   ]
  },
  {
   "cell_type": "code",
   "execution_count": null,
   "id": "7a3cf33a",
   "metadata": {},
   "outputs": [],
   "source": [
    "df_club_games = pd.read_csv('archive/club_games.csv')\n",
    "df_club_games.head(20)"
   ]
  },
  {
   "cell_type": "code",
   "execution_count": null,
   "id": "f5016267",
   "metadata": {},
   "outputs": [],
   "source": [
    "df_clubs = pd.read_csv('archive/clubs.csv')\n",
    "df_clubs.head(20)"
   ]
  },
  {
   "cell_type": "code",
   "execution_count": null,
   "id": "9cd13652",
   "metadata": {},
   "outputs": [],
   "source": [
    "df_competitions = pd.read_csv('archive/competitions.csv')\n",
    "df_competitions.head(20)"
   ]
  },
  {
   "cell_type": "code",
   "execution_count": null,
   "id": "3f81ee58",
   "metadata": {},
   "outputs": [],
   "source": [
    "#Vamos analsisar o dataframe club_games, que possui informações sobre os jogos\n",
    "df_club_games.columns.tolist()"
   ]
  },
  {
   "cell_type": "code",
   "execution_count": null,
   "id": "7e460b8e",
   "metadata": {},
   "outputs": [],
   "source": [
    "#Vamos transformar o hosting em números \n",
    "df_club_games['hosting'].unique()\n",
    "df_club_games['hosting'].value_counts()"
   ]
  },
  {
   "cell_type": "code",
   "execution_count": null,
   "id": "e0365c24",
   "metadata": {},
   "outputs": [],
   "source": [
    "map_hosting = {\n",
    "    'Home': 1,\n",
    "    'Away': 0\n",
    "}\n",
    "df_club_games['hosting'] = df_club_games['hosting'].map(map_hosting)\n",
    "df_club_games.head(20)"
   ]
  },
  {
   "cell_type": "code",
   "execution_count": null,
   "id": "fa8e4cd0",
   "metadata": {},
   "outputs": [],
   "source": [
    "#Vamos retirar colunas que não são necessárias para a análise\n",
    "remover_colunas = ['own_manager_name','opponent_manager_name']\n",
    "df_club_games.drop(columns=remover_colunas, inplace=True)"
   ]
  },
  {
   "cell_type": "code",
   "execution_count": null,
   "id": "1e3fb3b7",
   "metadata": {},
   "outputs": [],
   "source": [
    "#Como queremos trabalhar apenas com jogos de campeonatos e não copas, vamos remover todas as linhas que possuem a competição como Copa\n",
    "#Usando dropna para remover linhas com valores nulos\n",
    "df_club_games = df_club_games.dropna(subset=['own_position'])\n",
    "df_club_games.head(10)\n"
   ]
  },
  {
   "cell_type": "code",
   "execution_count": null,
   "id": "3a1ccdb8",
   "metadata": {},
   "outputs": [],
   "source": [
    "df_games = pd.read_csv('archive/games.csv')\n",
    "df_games.head(10)"
   ]
  },
  {
   "cell_type": "code",
   "execution_count": null,
   "id": "4440c943",
   "metadata": {},
   "outputs": [],
   "source": [
    "df_games.columns.tolist()"
   ]
  },
  {
   "cell_type": "code",
   "execution_count": null,
   "id": "648d39e2",
   "metadata": {},
   "outputs": [],
   "source": [
    "#Vamos retirar algumas colunas que não são necessárias para a análise\n",
    "remover_colunas = ['referee','url','home_club_name','away_club_name','home_club_manager_name',\n",
    "                   'away_club_manager_name','stadium']\n",
    "df_games.drop(columns=remover_colunas, inplace=True)\n"
   ]
  },
  {
   "cell_type": "code",
   "execution_count": null,
   "id": "9e550d79",
   "metadata": {},
   "outputs": [],
   "source": [
    "#Vamos mostrar a tabela novamente\n",
    "df_games.head(10)"
   ]
  },
  {
   "cell_type": "code",
   "execution_count": null,
   "id": "dd50facf",
   "metadata": {},
   "outputs": [],
   "source": [
    "df_games['competition_type'].unique()\n",
    "#Vamos retirar as linhas que possuem a competição como Copa\n",
    "df_games = df_games[df_games['competition_type'] == 'domestic_league']"
   ]
  },
  {
   "cell_type": "code",
   "execution_count": null,
   "id": "79a0695e",
   "metadata": {},
   "outputs": [],
   "source": [
    "df_games['competition_type'].unique()\n",
    "#Agora que já normalizamos podemos retirar essa linha \n",
    "df_games = df_games.drop(columns=['competition_type'])"
   ]
  },
  {
   "cell_type": "code",
   "execution_count": null,
   "id": "cfdadb5e",
   "metadata": {},
   "outputs": [],
   "source": [
    "#Vamos analisar agora as formações dos dois times\n",
    "df_games['home_club_formation'].unique()"
   ]
  },
  {
   "cell_type": "code",
   "execution_count": null,
   "id": "89445a5a",
   "metadata": {},
   "outputs": [],
   "source": [
    "mapeamento_formações = {\n",
    "    np.nan: 0,\n",
    "    '4-2-3-1': 1,\n",
    "    '4-3-2-1': 2,\n",
    "    '4-4-2 double 6': 3,\n",
    "    '4-3-3 Defending': 4,\n",
    "    '4-3-3 Attacking': 5,\n",
    "    '4-5-1 flat': 6,\n",
    "    '4-1-4-1': 7,\n",
    "    '4-3-1-2': 8,\n",
    "    '3-5-2 flat': 9,\n",
    "    '4-4-2 Diamond': 10,\n",
    "    '5-4-1': 11,\n",
    "    '4-4-1-1': 12,\n",
    "    '4-4-2': 13,\n",
    "    '3-4-2-1': 14,\n",
    "    '5-2-3': 15,\n",
    "    '4-1-3-2': 16,\n",
    "    '5-3-2': 17,\n",
    "    '3-5-2': 18,\n",
    "    '3-6-1': 19,\n",
    "    '4-3-3': 20,\n",
    "    '4-5-1': 21,\n",
    "    '3-4-3': 22,\n",
    "    '5-4-1 Diamond': 23,\n",
    "    '2-5-3' : 24,\n",
    "    '3-4-1-2': 25,\n",
    "    '3-5-2 Attacking': 26,\n",
    "    '3-1-4-2': 27,\n",
    "    '3-4-3 Diamond': 28,\n",
    "    '3-3-3-1': 29,\n",
    "    '4-2-4': 30,\n",
    "    '4-6-0': 31,\n",
    "    '6-1-3': 32,\n",
    "    '6-2-2': 33,\n",
    "    '2-4-4': 34,\n",
    "    '2-7-1' : 35,\n",
    "    '3-3-4': 36\n",
    "}\n",
    "\n",
    "df_games['home_club_formation'] = df_games['home_club_formation'].map(mapeamento_formações)\n",
    "df_games['away_club_formation'] = df_games['away_club_formation'].map(mapeamento_formações)"
   ]
  },
  {
   "cell_type": "code",
   "execution_count": null,
   "id": "1d477e36",
   "metadata": {},
   "outputs": [],
   "source": [
    "#Vamos retirar o texto matchday da coluna round \n",
    "df_games['round'].unique()\n",
    "# Extrai apenas os números\n",
    "df_games['round'] = df_games['round'].str.extract(r'(\\d+)')"
   ]
  },
  {
   "cell_type": "code",
   "execution_count": null,
   "id": "778e91ce",
   "metadata": {},
   "outputs": [],
   "source": [
    "df_games['round'].unique()"
   ]
  },
  {
   "cell_type": "code",
   "execution_count": null,
   "id": "574d4d76",
   "metadata": {},
   "outputs": [],
   "source": [
    "df_games.head(10)"
   ]
  },
  {
   "cell_type": "code",
   "execution_count": null,
   "id": "a8dc6be1",
   "metadata": {},
   "outputs": [],
   "source": [
    "#Vendo o resultado das partidas\n",
    "df_games['aggregate'].unique()"
   ]
  },
  {
   "cell_type": "code",
   "execution_count": null,
   "id": "93fc21df",
   "metadata": {},
   "outputs": [],
   "source": [
    "\n",
    "mapeamento_partidas = {\n",
    "    # Empates\n",
    "    '0:0': 0,\n",
    "    '1:1': 1,\n",
    "    '2:2': 2,\n",
    "    '3:3': 3,\n",
    "    '4:4': 4,\n",
    "    '5:5': 5,\n",
    "\n",
    "    # Vitórias/Derrotas (valores menores primeiro para padronização)\n",
    "    '0:1': 6,  # e '1:0'\n",
    "    '0:2': 7,  # e '2:0'\n",
    "    '0:3': 8,  # e '3:0'\n",
    "    '0:4': 9,  # e '4:0'\n",
    "    '0:5': 10, # e '5:0'\n",
    "    '0:6': 11, # e '6:0'\n",
    "    '0:7': 12, # e '7:0'\n",
    "    '0:8': 13, # e '8:0'\n",
    "    '0:9': 14, # e '9:0'\n",
    "    '0:13': 15, # e '13:0'\n",
    "    '1:2': 16, # e '2:1'\n",
    "    '1:3': 17, # e '3:1'\n",
    "    '1:4': 18, # e '4:1'\n",
    "    '1:5': 19, # e '5:1'\n",
    "    '1:6': 20, # e '6:1'\n",
    "    '1:7': 21, # e '7:1'\n",
    "    '1:8': 22, # e '8:1'\n",
    "    '2:3': 23, # e '3:2'\n",
    "    '2:4': 24, # e '4:2'\n",
    "    '2:5': 25, # e '5:2'\n",
    "    '2:6': 26, # e '6:2'\n",
    "    '2:7': 27, # e '7:2'\n",
    "    '2:8': 28, # e '8:2'\n",
    "    '3:4': 29, # e '4:3'\n",
    "    '3:5': 30, # e '5:3'\n",
    "    '3:6': 31, # e '6:3'\n",
    "    '3:7': 32, # e '7:3'\n",
    "    '4:5': 33, # e '5:4'\n",
    "    '4:6': 34, # e '6:4'\n",
    "    '9:1': 35, # e '1:9'\n",
    "    '9:2': 36, # e '2:9'\n",
    "    '10:0': 37, # e '0:10'\n",
    "    '10:1': 38, # e '1:10'\n",
    "    '10:2': 39, # e '2:10'\n",
    "}\n",
    "\n",
    "# Adicionando as chaves invertidas para garantir o mesmo mapeamento\n",
    "mapeamento_partidas['1:0'] = mapeamento_partidas['0:1']\n",
    "mapeamento_partidas['2:0'] = mapeamento_partidas['0:2']\n",
    "mapeamento_partidas['3:0'] = mapeamento_partidas['0:3']\n",
    "mapeamento_partidas['4:0'] = mapeamento_partidas['0:4']\n",
    "mapeamento_partidas['5:0'] = mapeamento_partidas['0:5']\n",
    "mapeamento_partidas['6:0'] = mapeamento_partidas['0:6']\n",
    "mapeamento_partidas['7:0'] = mapeamento_partidas['0:7']\n",
    "mapeamento_partidas['8:0'] = mapeamento_partidas['0:8']\n",
    "mapeamento_partidas['9:0'] = mapeamento_partidas['0:9']\n",
    "mapeamento_partidas['13:0'] = mapeamento_partidas['0:13']\n",
    "mapeamento_partidas['2:1'] = mapeamento_partidas['1:2']\n",
    "mapeamento_partidas['3:1'] = mapeamento_partidas['1:3']\n",
    "mapeamento_partidas['4:1'] = mapeamento_partidas['1:4']\n",
    "mapeamento_partidas['5:1'] = mapeamento_partidas['1:5']\n",
    "mapeamento_partidas['6:1'] = mapeamento_partidas['1:6']\n",
    "mapeamento_partidas['7:1'] = mapeamento_partidas['1:7']\n",
    "mapeamento_partidas['8:1'] = mapeamento_partidas['1:8']\n",
    "mapeamento_partidas['3:2'] = mapeamento_partidas['2:3']\n",
    "mapeamento_partidas['4:2'] = mapeamento_partidas['2:4']\n",
    "mapeamento_partidas['5:2'] = mapeamento_partidas['2:5']\n",
    "mapeamento_partidas['6:2'] = mapeamento_partidas['2:6']\n",
    "mapeamento_partidas['7:2'] = mapeamento_partidas['2:7']\n",
    "mapeamento_partidas['8:2'] = mapeamento_partidas['2:8']\n",
    "mapeamento_partidas['4:3'] = mapeamento_partidas['3:4']\n",
    "mapeamento_partidas['5:3'] = mapeamento_partidas['3:5']\n",
    "mapeamento_partidas['6:3'] = mapeamento_partidas['3:6']\n",
    "mapeamento_partidas['7:3'] = mapeamento_partidas['3:7']\n",
    "mapeamento_partidas['5:4'] = mapeamento_partidas['4:5']\n",
    "mapeamento_partidas['6:4'] = mapeamento_partidas['4:6']\n",
    "mapeamento_partidas['1:9'] = mapeamento_partidas['9:1']\n",
    "mapeamento_partidas['2:9'] = mapeamento_partidas['9:2']\n",
    "mapeamento_partidas['0:10'] = mapeamento_partidas['10:0']\n",
    "mapeamento_partidas['1:10'] = mapeamento_partidas['10:1']\n",
    "mapeamento_partidas['2:10'] = mapeamento_partidas['10:2']\n",
    "\n",
    "df_games['aggregate'] = df_games['aggregate'].map(mapeamento_partidas)\n"
   ]
  },
  {
   "cell_type": "code",
   "execution_count": null,
   "id": "c0d147fc",
   "metadata": {},
   "outputs": [],
   "source": [
    "df_games['aggregate'].unique()"
   ]
  },
  {
   "cell_type": "code",
   "execution_count": null,
   "id": "196a5ce3",
   "metadata": {},
   "outputs": [],
   "source": [
    "#Vamos juntar os datframes df_club_games com df_games\n",
    "df_unido = pd.merge(df_club_games, df_games, on='game_id', how='inner')\n",
    "df_unido.head(10)"
   ]
  },
  {
   "cell_type": "code",
   "execution_count": null,
   "id": "94c96ba3",
   "metadata": {},
   "outputs": [],
   "source": [
    "#Antes de fazer isso, vamos ver se as colunas já não estão duplicadas\n",
    "df_unido.duplicated().sum()\n"
   ]
  },
  {
   "cell_type": "code",
   "execution_count": null,
   "id": "f8ac8944",
   "metadata": {},
   "outputs": [],
   "source": [
    "#Agora vamos separar os times em casa e fora em colunas separadas\n",
    "#Para isso, vamos ter que adaptar diversos passos da lógica. Exemplo disso é a vitória, que caso seja 1 significa que o time da casa ganhou e o time visitante perdeu. Além disso, vamos ter que duplicar as linhas e retirar todas as colunas que só tenham a ver com um deles\n",
    "#Vamos duplicar o dataframe\n",
    "df_casa = df_unido.copy()\n",
    "df_vistante = df_unido.copy()\n",
    "\n"
   ]
  },
  {
   "cell_type": "code",
   "execution_count": null,
   "id": "236eded2",
   "metadata": {},
   "outputs": [],
   "source": [
    "#Vamos rever todas as colunas que temos\n",
    "df_casa.columns.tolist()"
   ]
  },
  {
   "cell_type": "code",
   "execution_count": null,
   "id": "53cdc051",
   "metadata": {},
   "outputs": [],
   "source": [
    "#Parâmetros exclusivos do time da casa \n",
    "#Refazeno a lógica. Vamos manter sim opponent goals, opponent position e away club goals, pois são importantes para a análise.\n",
    "casa = ['club_id','home_club_id','home_club_goals','home_club_position']\n",
    "#Parâmetros exclusivos do time visitante\n",
    "visitante = ['opponent_id','away_club_id','away_club_goals','away_club_position']\n",
    "\n",
    "#Vamos retirar os parametros casa do dataframe df_visitante\n",
    "df_vistante.drop(columns=casa, inplace=True)\n",
    "\n",
    "#Vamos retirar os parametros visitante do dataframe df_casa\n",
    "df_casa.drop(columns=visitante, inplace=True)"
   ]
  },
  {
   "cell_type": "code",
   "execution_count": null,
   "id": "f4dfb6ae",
   "metadata": {},
   "outputs": [],
   "source": [
    "#Verificando o df_casa\n",
    "df_casa.head(10)"
   ]
  },
  {
   "cell_type": "code",
   "execution_count": null,
   "id": "a269f33c",
   "metadata": {},
   "outputs": [],
   "source": [
    "#Verificando o df vistante\n",
    "df_vistante.head(10)"
   ]
  },
  {
   "cell_type": "code",
   "execution_count": null,
   "id": "cfd2a03b",
   "metadata": {},
   "outputs": [],
   "source": [
    "# Cria coluna baseada no aggregate\n",
    "# Cria coluna baseada no aggregate - apenas empate ou vitória\n",
    "df_casa['empate'] = np.where(\n",
    "    df_casa['aggregate'] <= 5, 0,  # Empate = 0\n",
    "    1                               # Vitória/Derrota = 1\n",
    ")\n",
    "\n",
    "df_casa.head(10)"
   ]
  },
  {
   "cell_type": "code",
   "execution_count": null,
   "id": "ad155f5c",
   "metadata": {},
   "outputs": [],
   "source": [
    "#Agora vamos analisar 2 colunas. Se for empate, nada a olhar. Caso não seja, devemos verificar se a coluna is win é 1 ou 0: dessa forma, vamos finalmente determinar se empatou, ganhou ou perdeu\n",
    "\n",
    "for i in range(len(df_casa)):\n",
    "    if df_casa['empate'][i] == 0: #se for 0 empatou\n",
    "        df_casa.loc[i, 'is_win'] = 2\n",
    "\n",
    "#Agora podemos remover a coluna empate, pois não precisamos mais dela\n",
    "df_casa.drop(columns=['empate'], inplace=True)\n",
    "\n",
    "df_casa.head(10)"
   ]
  },
  {
   "cell_type": "code",
   "execution_count": null,
   "id": "fe8b2a87",
   "metadata": {},
   "outputs": [],
   "source": [
    "#Agora vamos fazer o mesmo para o time visitante\n",
    "#No entanto, temos um detalhe crucial: Antes devemos inverter toda a coluna is_win, pois o time visitante é o inverso do time da casa\n",
    "#Também temos que inverter a coluna hosting, pois o time visitante é o inverso do time da casa\n",
    "for i in range(len(df_vistante)):\n",
    "    if df_vistante['is_win'][i] == 0:\n",
    "        df_vistante.loc[i, 'is_win'] = 1 \n",
    "    elif df_vistante['is_win'][i] == 1:\n",
    "        df_vistante.loc[i, 'is_win'] = 0\n",
    "    if df_vistante['hosting'][i] == 1:\n",
    "        df_vistante.loc[i, 'hosting'] = 0\n",
    "    elif df_vistante['hosting'][i] == 0:\n",
    "        df_vistante.loc[i, 'hosting'] = 1\n",
    "    \n",
    "\n",
    "df_vistante.head(10)\n"
   ]
  },
  {
   "cell_type": "code",
   "execution_count": null,
   "id": "d8f0bb4f",
   "metadata": {},
   "outputs": [],
   "source": [
    "#Agora sim vamos criar o empate e duplicar o processo para o time visitante\n",
    "\n",
    "# Cria coluna baseada no aggregate\n",
    "# Cria coluna baseada no aggregate - apenas empate ou vitória\n",
    "df_vistante['empate'] = np.where(\n",
    "    df_vistante['aggregate'] <= 5, 0,  # Empate = 0\n",
    "    1                               # Vitória/Derrota = 1\n",
    ")\n",
    "\n",
    "df_vistante.head(10)\n",
    "\n",
    "#Agora vamos analisar 2 colunas. Se for empate, nada a olhar. Caso não seja, devemos verificar se a coluna is win é 1 ou 0: dessa forma, vamos finalmente determinar se empatou, ganhou ou perdeu\n",
    "\n",
    "for i in range(len(df_vistante)):\n",
    "    if df_vistante['empate'][i] == 0: #se for 0 empatou\n",
    "        df_vistante.loc[i, 'is_win'] = 2\n",
    "\n",
    "#Agora podemos remover a coluna empate, pois não precisamos mais dela\n",
    "df_vistante.drop(columns=['empate'], inplace=True)\n",
    "\n",
    "df_vistante.head(10)\n"
   ]
  },
  {
   "cell_type": "code",
   "execution_count": null,
   "id": "f2a20bfd",
   "metadata": {},
   "outputs": [],
   "source": [
    "df_vistante.columns.tolist()"
   ]
  },
  {
   "cell_type": "code",
   "execution_count": null,
   "id": "60c0bc18",
   "metadata": {},
   "outputs": [],
   "source": [
    "df_casa.columns.tolist()"
   ]
  },
  {
   "cell_type": "code",
   "execution_count": null,
   "id": "b28e7ea1",
   "metadata": {},
   "outputs": [],
   "source": [
    "#Vamos agora renomear as colunas do df_vistante para que fiquem IGUAIS as do df_casa para depois podermos juntar os dois dataframes\n",
    "df_visitante2 = df_vistante.rename(columns={\n",
    "    'opponent_goals': 'own_goals',\n",
    "    'opponent_position': 'own_position',\n",
    "    'opponent_id': 'club_id',\n",
    "    'away_club_id': 'home_club_id',\n",
    "    'away_club_goals': 'home_club_goals',\n",
    "    'away_club_formation': 'home_club_formation',\n",
    "    'away_club_position': 'home_club_position',\n",
    "    'home_club_formation': 'away_club_formation',\n",
    "    'own_goals': 'opponent_goals',\n",
    "    'own_position': 'opponent_position',\n",
    "})"
   ]
  },
  {
   "cell_type": "code",
   "execution_count": null,
   "id": "f92f5b2d",
   "metadata": {},
   "outputs": [],
   "source": [
    "df_unido2 = pd.concat([df_casa, df_visitante2], ignore_index=True)\n",
    "df_unido2.head(10)"
   ]
  },
  {
   "cell_type": "code",
   "execution_count": null,
   "id": "93b6d404",
   "metadata": {},
   "outputs": [],
   "source": [
    "# Mostra todas as linhas onde club_id ≠ home_club_id\n",
    "linhas_diferentes = df_casa[df_casa['club_id'] != df_casa['home_club_id']]\n",
    "linhas_diferentes.head(10)"
   ]
  },
  {
   "cell_type": "code",
   "execution_count": null,
   "id": "2982b455",
   "metadata": {},
   "outputs": [],
   "source": [
    "#Isso significa que já tinha uma coluna invertida antes. Logo, vamos deletar essas linhas do df_unico2\n",
    "df_unico2 = df_unido2[df_unido2['club_id'] == df_unido2['home_club_id']]\n",
    "print(len(df_unico2))"
   ]
  },
  {
   "cell_type": "code",
   "execution_count": null,
   "id": "023c0c2a",
   "metadata": {},
   "outputs": [],
   "source": [
    "# Pronto! Agora podemos trabalhar com as informações da liga e adcionar a esse dataframe\n",
    "df_competitions.columns.tolist()"
   ]
  },
  {
   "cell_type": "code",
   "execution_count": null,
   "id": "33248b49",
   "metadata": {},
   "outputs": [],
   "source": [
    "df_competitions.head(40)"
   ]
  },
  {
   "cell_type": "code",
   "execution_count": null,
   "id": "2ffc7000",
   "metadata": {},
   "outputs": [],
   "source": [
    "df_competitions = df_competitions[['competition_id','country_id','confederation','is_major_national_league','competition_code']]\n",
    "df_competitions.head(10)"
   ]
  },
  {
   "cell_type": "code",
   "execution_count": null,
   "id": "4994cd5c",
   "metadata": {},
   "outputs": [],
   "source": [
    "df_competitions['confederation'].unique()"
   ]
  },
  {
   "cell_type": "code",
   "execution_count": null,
   "id": "84377959",
   "metadata": {},
   "outputs": [],
   "source": [
    "mapeamento_confederacao = {\n",
    "    'europa': 1\n",
    "}\n",
    "df_competitions['confederation'] = df_competitions['confederation'].map(mapeamento_confederacao)\n",
    "\n",
    "mapeamento_major_national_league = {\n",
    "    True: 1,\n",
    "    False: 0\n",
    "}\n",
    "df_competitions['is_major_national_league'] = df_competitions['is_major_national_league'].map(mapeamento_major_national_league)\n",
    "df_competitions.head(10)"
   ]
  },
  {
   "cell_type": "code",
   "execution_count": null,
   "id": "65446430",
   "metadata": {},
   "outputs": [],
   "source": [
    "#Vamos remover as linhas que contém id igual a -1\n",
    "\n",
    "df_competitions = df_competitions[df_competitions['country_id'] != -1]"
   ]
  },
  {
   "cell_type": "code",
   "execution_count": null,
   "id": "a51cd944",
   "metadata": {},
   "outputs": [],
   "source": [
    "df_competitions.head(40)\n"
   ]
  },
  {
   "cell_type": "code",
   "execution_count": null,
   "id": "218b5c0c",
   "metadata": {},
   "outputs": [],
   "source": [
    "#Agora sim! Vamos unir df_unido2 com df_competitions\n",
    "df_unido_final = pd.merge(df_unico2, df_competitions, on='competition_id', how='inner')\n",
    "df_unido_final.head(10)"
   ]
  },
  {
   "cell_type": "code",
   "execution_count": null,
   "id": "4fee9237",
   "metadata": {},
   "outputs": [],
   "source": [
    "#Vamos pegar os 10 últimos para verificar se está tudo certo\n",
    "df_unido_final.tail(10)"
   ]
  },
  {
   "cell_type": "code",
   "execution_count": null,
   "id": "2261b5ee",
   "metadata": {},
   "outputs": [],
   "source": [
    "#Vamos transformar o competition id em int \n",
    "df_unido_final['competition_id'].unique()"
   ]
  },
  {
   "cell_type": "code",
   "execution_count": null,
   "id": "9c655f24",
   "metadata": {},
   "outputs": [],
   "source": [
    "# Mapeamento dos IDs das competições\n",
    "competition_id_map = {\n",
    "    'L1': 1,\n",
    "    'RU1': 2,\n",
    "    'BE1': 3,\n",
    "    'FR1': 4,\n",
    "    'GB1': 5,\n",
    "    'SC1': 6,\n",
    "    'UKR1': 7,\n",
    "    'PO1': 8,\n",
    "    'ES1': 9,\n",
    "    'NL1': 10,\n",
    "    'TR1': 11,\n",
    "    'GR1': 12,\n",
    "    'IT1': 13,\n",
    "    'DK1': 14\n",
    "}\n",
    "df_unido_final['competition_id'] = df_unido_final['competition_id'].map(competition_id_map)\n"
   ]
  },
  {
   "cell_type": "code",
   "execution_count": null,
   "id": "1ab50d12",
   "metadata": {},
   "outputs": [],
   "source": [
    "# Vamos retirar os valores nulos de attendance \n",
    "df_unido_final = df_unido_final.dropna(subset=['attendance'])"
   ]
  },
  {
   "cell_type": "code",
   "execution_count": null,
   "id": "bcc32745",
   "metadata": {},
   "outputs": [],
   "source": [
    "#Vamos retirar a coluna date, pois não precisamos mais dela\n",
    "df_unido_final.drop(columns=['date'], inplace=True)"
   ]
  },
  {
   "cell_type": "code",
   "execution_count": null,
   "id": "8f34c13b",
   "metadata": {},
   "outputs": [],
   "source": [
    "df_unido_final.head(10)"
   ]
  },
  {
   "cell_type": "markdown",
   "id": "ccc426bd",
   "metadata": {},
   "source": [
    "Agora vamos unir a informações dos clubes"
   ]
  },
  {
   "cell_type": "code",
   "execution_count": null,
   "id": "80f5b80f",
   "metadata": {},
   "outputs": [],
   "source": [
    "df_clubs.columns.tolist()"
   ]
  },
  {
   "cell_type": "code",
   "execution_count": null,
   "id": "2ffa7c97",
   "metadata": {},
   "outputs": [],
   "source": [
    "df_clubs.head(10)"
   ]
  },
  {
   "cell_type": "code",
   "execution_count": null,
   "id": "945558bb",
   "metadata": {},
   "outputs": [],
   "source": [
    "# Conta quantas vezes cada valor aparece\n",
    "df_clubs['club_code'].value_counts()"
   ]
  },
  {
   "cell_type": "code",
   "execution_count": null,
   "id": "883018a3",
   "metadata": {},
   "outputs": [],
   "source": [
    "#Vamos passar o nome do clube também para facilitar a análise\n",
    "df_club_novo = df_clubs[['club_id', 'name']]\n",
    "# Vamos unir o df_club_novo com o df_unido_final\n",
    "df_unido_final = pd.merge(df_unido_final, df_club_novo, on='club_id', how='inner')\n",
    "df_unido_final.head(10)"
   ]
  },
  {
   "cell_type": "code",
   "execution_count": null,
   "id": "b8c771f6",
   "metadata": {},
   "outputs": [],
   "source": [
    "#Vamos baixar o dataframe final para um csv\n",
    "df_unido_final.to_csv('df_unido_final3.csv', index=False)"
   ]
  },
  {
   "cell_type": "markdown",
   "id": "5969dde2",
   "metadata": {},
   "source": [
    "\n",
    "---\n",
    "\n",
    "# Parte 2: Preparação para Predição de Colocações\n",
    "\n",
    "---\n"
   ]
  },
  {
   "cell_type": "markdown",
   "id": "e7a89f75",
   "metadata": {},
   "source": [
    "\n",
    "# Vamos Começar\n",
    "\n",
    "Primeiro a ideia. Agora que normalizamos a base de dados, é mais fácil trabalhar com ela. A primeira ideia é simples. Vamos pegar as 10 primeiras rodadas do campeonato, construir uma tabela com essas informações e tentar prever as colocações na última rodada. "
   ]
  },
  {
   "cell_type": "code",
   "execution_count": null,
   "id": "53770433",
   "metadata": {},
   "outputs": [],
   "source": [
    "import pandas as pd\n",
    "import numpy as np\n"
   ]
  },
  {
   "cell_type": "markdown",
   "id": "12a497cf",
   "metadata": {},
   "source": [
    "Primeiro, algumas modificações no dataset. Precisamos organizar por clubes e construir as colunas de acordo com as primeiras rodadas, além de guardar o resultado das últimas. Por isso vamos começar pelos campeonatos e número de rodadas (times)"
   ]
  },
  {
   "cell_type": "code",
   "execution_count": null,
   "id": "f912ee49",
   "metadata": {},
   "outputs": [],
   "source": [
    "# Importando o dataset\n",
    "df = pd.read_csv('df_unido_final3.csv')\n",
    "df.head(10)"
   ]
  },
  {
   "cell_type": "markdown",
   "id": "b63d4dda",
   "metadata": {},
   "source": [
    "Uma forma de fazer isso é separar alguns países e ver quantas rodadas tem em cada um dos 14 campeonatos"
   ]
  },
  {
   "cell_type": "code",
   "execution_count": null,
   "id": "7a3d65c6",
   "metadata": {},
   "outputs": [],
   "source": [
    "df_1 = df[df['competition_id'] == 1]\n",
    "df_1.head(10)"
   ]
  },
  {
   "cell_type": "code",
   "execution_count": null,
   "id": "1079ec24",
   "metadata": {},
   "outputs": [],
   "source": [
    "#Agora vamos pegar apenas o campeonato de 2024 \n",
    "df_2024_bundesliga = df_1[df_1['season'] == 2024]\n",
    "df_2024_bundesliga.head(10)"
   ]
  },
  {
   "cell_type": "code",
   "execution_count": null,
   "id": "11334b1d",
   "metadata": {},
   "outputs": [],
   "source": [
    "#Vamos agora verificar até qual rodada o campeonato foi disputado\n",
    "df_2024_bundesliga['round'].unique()"
   ]
  },
  {
   "cell_type": "code",
   "execution_count": null,
   "id": "8bd0e610",
   "metadata": {},
   "outputs": [],
   "source": [
    "#Vamos analisar agora o competition id =2\n",
    "df_2 = df[df['competition_id'] == 5]\n",
    "df_2.head(10)"
   ]
  },
  {
   "cell_type": "code",
   "execution_count": null,
   "id": "23bea89e",
   "metadata": {},
   "outputs": [],
   "source": [
    "df_premier_league = df_2[df_2['season'] == 2022]\n",
    "df_premier_league.head(10)"
   ]
  },
  {
   "cell_type": "code",
   "execution_count": null,
   "id": "cb481a30",
   "metadata": {},
   "outputs": [],
   "source": [
    "df_premier_league['round'].unique()"
   ]
  },
  {
   "cell_type": "markdown",
   "id": "c9f9f6a3",
   "metadata": {},
   "source": [
    "Na premier sempre vamos ter informações da primeira até a 38 rodada. Logo, vamos pegar 10 rodadas de 2024 e fazer o mesmo com todos os outros anos, colocando o histórico dos 10 primeiros jogos e como y_predic a colocação na 30 rodada. Caso o desempenho esteja muito fraco, podemos aumentar as rodadas depois."
   ]
  },
  {
   "cell_type": "code",
   "execution_count": null,
   "id": "d2a5c692",
   "metadata": {},
   "outputs": [],
   "source": [
    "df_premier_leagueround1 = df_premier_league[df_premier_league['round'] == 38]\n",
    "df_premier_leagueround1.head(25)"
   ]
  },
  {
   "cell_type": "code",
   "execution_count": null,
   "id": "6bd1a88d",
   "metadata": {},
   "outputs": [],
   "source": [
    "# Vamos começar criando uma coluna com a última colocação do time, o que será o y_predic\n",
    "#Primeiro, precisamos fazer isso para cada season\n",
    "#Vamos criar um df só para a ultima rodada de cada season\n",
    "df_premier_league_last_round = df_2[df_2['round'] == 38]\n",
    "df_premier_league_last_round.head(10)\n",
    "\n",
    "\n"
   ]
  },
  {
   "cell_type": "code",
   "execution_count": null,
   "id": "08e068d5",
   "metadata": {},
   "outputs": [],
   "source": [
    "#Agora vamos adaptar esse df para ficar com apenas 3 colunas que depois vamos usar para fazer o merge\n",
    "df_premier_league_last_round = df_premier_league_last_round[['club_id', 'season', 'own_position']]\n",
    "#Vamnos renoemar a coluna 'own_position' para 'last_position'\n",
    "df_premier_league_last_round = df_premier_league_last_round.rename(columns={\n",
    "    'own_position': 'last_position'\n",
    "})\n",
    "#Agora vamos fazer o merge com o df_premier_league\n",
    "df_2 = pd.merge(df_2, df_premier_league_last_round, on=['club_id', 'season'], how='left', suffixes=('', '_last_round'))\n"
   ]
  },
  {
   "cell_type": "code",
   "execution_count": null,
   "id": "b56e232c",
   "metadata": {},
   "outputs": [],
   "source": [
    "#Para testar, vamos pegar uma rodada aleatória e ver se a última posição está correta\n",
    "df_2[df_2['round'] == 5].tail(5)"
   ]
  },
  {
   "cell_type": "code",
   "execution_count": null,
   "id": "0243fe45",
   "metadata": {},
   "outputs": [],
   "source": [
    "#Vamos ver quais estão com nan na última posição \n",
    "df_2[df_2['last_position'].isna()].head(10)"
   ]
  },
  {
   "cell_type": "markdown",
   "id": "e628c967",
   "metadata": {},
   "source": [
    "Como já era de se esperar, no ano de 2024 as informaçõesnão estão presentes (desatualisado). No entanto, o mesmo aconteceu em 2019. Vamos investigar se houve um erro ou se simplesmente faltaram dados."
   ]
  },
  {
   "cell_type": "code",
   "execution_count": null,
   "id": "0916d4a5",
   "metadata": {},
   "outputs": [],
   "source": [
    "teste = df[df['season'] == 2019]\n",
    "teste = teste[teste['competition_id'] == 5]\n",
    "teste['round'].unique()"
   ]
  },
  {
   "cell_type": "code",
   "execution_count": null,
   "id": "56193f4e",
   "metadata": {},
   "outputs": [],
   "source": [
    "teste = teste[teste['round'] == 38]\n",
    "teste.head(10)"
   ]
  },
  {
   "cell_type": "markdown",
   "id": "e034e1ed",
   "metadata": {},
   "source": [
    "Como é possível ver, não existe dados para a última rodada de 2019. Vamos verificar se existe para a 37 em todas as outras."
   ]
  },
  {
   "cell_type": "code",
   "execution_count": null,
   "id": "16b42dbd",
   "metadata": {},
   "outputs": [],
   "source": [
    "teste = df[df['season'] == 2019]\n",
    "teste = teste[teste['competition_id'] == 5]\n",
    "teste['round'].unique()"
   ]
  },
  {
   "cell_type": "markdown",
   "id": "1b86b498",
   "metadata": {},
   "source": [
    "Temos 3 anos desfalcados: 2019,2020 e 2024. 2020 possui a 38 rodada, mas não possui as anteriores. Primeiro, vamos adcionar as posições finais de 20224"
   ]
  },
  {
   "cell_type": "code",
   "execution_count": null,
   "id": "e79bdcd7",
   "metadata": {},
   "outputs": [],
   "source": [
    "#Vamos pegar os códigos dos clubes de 2024 com seus nomes para podermos inserir a posição manualmente\n",
    "premier_2024 = df[df['season'] == 2024]\n",
    "premier_2024 = premier_2024[premier_2024['competition_id'] == 5]\n",
    "#Vamos pegar uma rodada aleatória para ver se os nomes estão corretos\n",
    "premier_2024 = premier_2024[premier_2024['round'] == 5]\n",
    "premier_2024 = premier_2024[['club_id', 'name']]\n",
    "#Por fim, vamos mandar printar para ver se está tudo certo\n",
    "premier_2024.head(20)"
   ]
  },
  {
   "cell_type": "code",
   "execution_count": null,
   "id": "dcf505f5",
   "metadata": {},
   "outputs": [],
   "source": [
    "#Vamos usar um loc para adcionar a última posição de cada clube\n",
    "df_2.loc[(df_2['season'] == 2024) & (df_2['club_id'] == 1237), 'last_position'] = 8 #brighton\n",
    "df_2.loc[(df_2['season'] == 2024) & (df_2['club_id'] == 148), 'last_position'] = 17 #tottenham\n",
    "df_2.loc[(df_2['season'] == 2024) & (df_2['club_id'] == 1003), 'last_position'] = 18 #leicester\n",
    "df_2.loc[(df_2['season'] == 2024) & (df_2['club_id'] == 281), 'last_position'] = 3 #manchester city\n",
    "df_2.loc[(df_2['season'] == 2024) & (df_2['club_id'] == 405), 'last_position'] = 6 #aston villa\n",
    "df_2.loc[(df_2['season'] == 2024) & (df_2['club_id'] == 873), 'last_position'] = 12 #crystal palace\n",
    "df_2.loc[(df_2['season'] == 2024) & (df_2['club_id'] == 379), 'last_position'] = 14 #west ham\n",
    "df_2.loc[(df_2['season'] == 2024) & (df_2['club_id'] == 180), 'last_position'] = 20 #southampton\n",
    "df_2.loc[(df_2['season'] == 2024) & (df_2['club_id'] == 931), 'last_position'] = 11 #fulham\n",
    "df_2.loc[(df_2['season'] == 2024) & (df_2['club_id'] == 31), 'last_position'] = 1 #liverpool\n",
    "df_2.loc[(df_2['season'] == 2024) & (df_2['club_id'] == 703), 'last_position'] = 7 #nottingham\n",
    "df_2.loc[(df_2['season'] == 2024) & (df_2['club_id'] == 1148), 'last_position'] = 10 #brentford\n",
    "df_2.loc[(df_2['season'] == 2024) & (df_2['club_id'] == 29), 'last_position'] = 13 #everton\n",
    "df_2.loc[(df_2['season'] == 2024) & (df_2['club_id'] == 11), 'last_position'] = 2 #arsenal\n",
    "df_2.loc[(df_2['season'] == 2024) & (df_2['club_id'] == 543), 'last_position'] = 16 #wolverhampton\n",
    "df_2.loc[(df_2['season'] == 2024) & (df_2['club_id'] == 985), 'last_position'] = 15 #manchester united\n",
    "df_2.loc[(df_2['season'] == 2024) & (df_2['club_id'] == 631), 'last_position'] = 4 #chelsea\n",
    "df_2.loc[(df_2['season'] == 2024) & (df_2['club_id'] == 677), 'last_position'] = 19 #IPSWICH\n",
    "df_2.loc[(df_2['season'] == 2024) & (df_2['club_id'] == 762), 'last_position'] = 5 #newcastle\n",
    "df_2.loc[(df_2['season'] == 2024) & (df_2['club_id'] == 989), 'last_position'] = 9 #bournemouth"
   ]
  },
  {
   "cell_type": "markdown",
   "id": "01a4d755",
   "metadata": {},
   "source": [
    "Agora que já finalizamos esse processo, temos a estrutura pronta. Agora, vamos precisar limpar algumas informações duplicadas eorganizar para que cada time tenha apenas 1 única linha com as informações dos 10 primeiros jogos. No final, também colocaremos índices como quantidade final de vitórias, derrotas e empates, saldo de gols, gols pros e contras "
   ]
  },
  {
   "cell_type": "code",
   "execution_count": null,
   "id": "c9c88fc2",
   "metadata": {},
   "outputs": [],
   "source": [
    "#Vamos começar listando todas as colunas que temos no df_2\n",
    "df_2.columns.tolist()"
   ]
  },
  {
   "cell_type": "code",
   "execution_count": null,
   "id": "3137625f",
   "metadata": {},
   "outputs": [],
   "source": [
    "# Vamos retirar as colunas que não são necessárias para a análise\n",
    "colunas_para_retirar = [\n",
    "    'competition_id', 'home_club_id', 'home_club_position', 'country_id', 'confederation', 'is_major_national_league',\n",
    " 'competition_code']\n",
    "df_2_reformulado = df_2.drop(columns=colunas_para_retirar)\n",
    "df_2_reformulado.head(10)"
   ]
  },
  {
   "cell_type": "code",
   "execution_count": null,
   "id": "c29331d8",
   "metadata": {},
   "outputs": [],
   "source": [
    "# CÓDIGO CORRIGIDO COM TODAS AS VERIFICAÇÕES\n",
    "print(\"Criando DataFrame final com verificações completas:\")\n",
    "print(\"=\"*60)\n",
    "\n",
    "# Lista para armazenar os dados finais\n",
    "dados_finais = []\n",
    "\n",
    "# Iterar por cada season disponível\n",
    "for season in sorted(df_2_reformulado['season'].unique()):\n",
    "    df_season = df_2_reformulado[df_2_reformulado['season'] == season]\n",
    "    \n",
    "    print(f\"\\n🔍 Verificando Season {season}:\")\n",
    "    \n",
    "    # VERIFICAÇÃO 1: Tem dados das 10 primeiras rodadas?\n",
    "    rodadas_disponiveis = sorted(df_season['round'].unique())\n",
    "    primeiras_10_rodadas = list(range(1, 11))\n",
    "    \n",
    "    rodadas_faltando = [r for r in primeiras_10_rodadas if r not in rodadas_disponiveis]\n",
    "    if rodadas_faltando:\n",
    "        print(f\"  ❌ Faltam rodadas: {rodadas_faltando}. Pulando...\")\n",
    "        continue\n",
    "    \n",
    "    # VERIFICAÇÃO 2: Tem exatamente 20 times?\n",
    "    times_na_season = df_season['club_id'].nunique()\n",
    "    if times_na_season != 20:\n",
    "        print(f\"  ❌ Tem {times_na_season} times (precisa de 20). Pulando...\")\n",
    "        continue\n",
    "    \n",
    "    # VERIFICAÇÃO 3: Todos os times têm last_position válida (não NaN)?\n",
    "    times_sem_last_position = df_season[df_season['last_position'].isna()]['club_id'].nunique()\n",
    "    if times_sem_last_position > 0:\n",
    "        print(f\"  ❌ {times_sem_last_position} times sem last_position. Pulando...\")\n",
    "        continue\n",
    "        \n",
    "    print(f\"  ✅ Season {season}: Dados completos! Processando {times_na_season} times...\")\n",
    "    \n",
    "    # Para cada time da season\n",
    "    times_processados = 0\n",
    "    for club_id in df_season['club_id'].unique():\n",
    "        df_club = df_season[df_season['club_id'] == club_id]\n",
    "        \n",
    "        # VERIFICAÇÃO 4: O time jogou todas as 10 primeiras rodadas?\n",
    "        rodadas_do_time = df_club['round'].unique()\n",
    "        rodadas_faltando_time = [r for r in primeiras_10_rodadas if r not in rodadas_do_time]\n",
    "        if rodadas_faltando_time:\n",
    "            print(f\"    ⚠️ Time {club_id}: Faltam rodadas {rodadas_faltando_time}. Pulando...\")\n",
    "            continue\n",
    "        \n",
    "        # VERIFICAÇÃO 5: O time tem last_position válida?\n",
    "        last_pos = df_club['last_position'].iloc[0]\n",
    "        if pd.isna(last_pos):\n",
    "            print(f\"    ⚠️ Time {club_id}: last_position é NaN. Pulando...\")\n",
    "            continue\n",
    "        \n",
    "        # Criar dicionário com dados básicos do time\n",
    "        linha_time = {\n",
    "            'club_id': club_id,\n",
    "            'season': season,\n",
    "            'name': df_club['name'].iloc[0],\n",
    "            'last_position': last_pos\n",
    "        }\n",
    "        \n",
    "        # Adicionar dados de cada uma das 10 rodadas\n",
    "        for rodada in range(1, 11):\n",
    "            dados_rodada = df_club[df_club['round'] == rodada]\n",
    "            if len(dados_rodada) > 0:\n",
    "                linha_time[f'own_goals_{rodada}'] = dados_rodada['own_goals'].iloc[0]\n",
    "                linha_time[f'own_position_{rodada}'] = dados_rodada['own_position'].iloc[0]\n",
    "                linha_time[f'hosting_{rodada}'] = dados_rodada['hosting'].iloc[0]\n",
    "                linha_time[f'is_win_{rodada}'] = dados_rodada['is_win'].iloc[0]\n",
    "                linha_time[f'home_club_formation_{rodada}'] = dados_rodada['home_club_formation'].iloc[0]\n",
    "                linha_time[f'aggregate_{rodada}'] = dados_rodada['aggregate'].iloc[0]\n",
    "                linha_time[f'opponent_goals_{rodada}'] = dados_rodada['opponent_goals'].iloc[0]\n",
    "                linha_time[f'opponent_position_{rodada}'] = dados_rodada['opponent_position'].iloc[0]\n",
    "                linha_time[f'away_club_formation_{rodada}'] = dados_rodada['away_club_formation'].iloc[0]\n",
    "        \n",
    "        # Adicionar linha à lista\n",
    "        dados_finais.append(linha_time)\n",
    "        times_processados += 1\n",
    "    \n",
    "    print(f\"    ✅ {times_processados} times processados para season {season}\")\n",
    "\n",
    "# Criar DataFrame final\n",
    "df_final_corrigido = pd.DataFrame(dados_finais)\n",
    "\n",
    "print(f\"\\n🎉 DataFrame final criado!\")\n",
    "print(f\"📊 Total de linhas: {len(df_final_corrigido)}\")\n",
    "print(f\"📊 Seasons processadas: {sorted(df_final_corrigido['season'].unique()) if len(df_final_corrigido) > 0 else 'Nenhuma'}\")\n",
    "\n",
    "if len(df_final_corrigido) > 0:\n",
    "    times_por_season = df_final_corrigido.groupby('season')['club_id'].nunique()\n",
    "    print(f\"📊 Times por season: {times_por_season.to_dict()}\")\n",
    "    print(f\"📊 Total de colunas: {len(df_final_corrigido.columns)}\")\n",
    "    print(\"\\nPrimeiras linhas:\")\n",
    "    print(df_final_corrigido.head())\n",
    "else:\n",
    "    print(\"⚠️ Nenhum dado atende a todos os critérios!\")"
   ]
  },
  {
   "cell_type": "code",
   "execution_count": null,
   "id": "2b175f20",
   "metadata": {},
   "outputs": [],
   "source": [
    "#Vamos verificar por season \n",
    "df_2_seasons = df_final_corrigido[df_final_corrigido['season'] == 2019]\n",
    "df_2_seasons.head(30)"
   ]
  },
  {
   "cell_type": "markdown",
   "id": "9bba5020",
   "metadata": {},
   "source": [
    "Agora vamos adcionar os pontos adquiridos em cada uma das rodadas"
   ]
  },
  {
   "cell_type": "code",
   "execution_count": null,
   "id": "5ce25664",
   "metadata": {},
   "outputs": [],
   "source": [
    "tt_points = 0\n",
    "# Agora vamos adcionar algumas colunas extras que podem ser úteis para análise\n",
    "#1. Vamos adcionar o total de pontos do time no final das 10 rodadas\n",
    "# Sabemos que na coluna is win 2 sdignifica empate 1 vitória e 0 derrota\n",
    "print(\"Calculando pontos acumulados para todas as temporadas...\")\n",
    "# Fazer uma cópia para evitar SettingWithCopyWarning\n",
    "df_final_com_pontos = df_final_corrigido.copy()\n",
    "\n",
    "# VERIFICAÇÃO: Quais seasons realmente existem no df_final_corrigido?\n",
    "print(\"🔍 Verificando seasons disponíveis no df_final_corrigido:\")\n",
    "seasons_disponiveis = sorted(df_final_corrigido['season'].unique())\n",
    "print(f\"Seasons encontradas: {seasons_disponiveis}\")\n",
    "print(f\"Total de seasons: {len(seasons_disponiveis)}\")\n",
    "print()\n",
    "\n",
    "# Verificar quantos times por season\n",
    "times_por_season = df_final_corrigido.groupby('season')['club_id'].nunique()\n",
    "print(\"Times por season:\")\n",
    "for season, count in times_por_season.items():\n",
    "    print(f\"  Season {season}: {count} times\")\n",
    "print()\n",
    "\n",
    "# CÓDIGO CORRIGIDO: Só processa seasons que realmente existem\n",
    "print(\"✅ Calculando pontos acumulados apenas para seasons válidas...\")\n",
    "df_final_com_pontos = df_final_corrigido.copy()\n",
    "\n",
    "# Loop apenas para as seasons que REALMENTE existem no DataFrame\n",
    "for seasons in seasons_disponiveis:\n",
    "    print(f\"Processando season {seasons}...\")\n",
    "    df_season = df_final_com_pontos[df_final_com_pontos['season'] == seasons]\n",
    "    \n",
    "    # VERIFICAÇÃO: Confirmar que a season tem dados\n",
    "    if len(df_season) == 0:\n",
    "        print(f\"  ❌ Season {seasons} não tem dados. Pulando...\")\n",
    "        continue\n",
    "        \n",
    "    # Para cada time da season atual\n",
    "    times_processados = 0\n",
    "    for clubs in df_season['club_id'].unique():\n",
    "        tt_points = 0  # RESET dos pontos para cada time\n",
    "        \n",
    "        # VERIFICAÇÃO: Confirmar que o time tem todas as colunas is_win\n",
    "        tem_todas_rodadas = True\n",
    "        for rodada_check in range(1, 11):\n",
    "            if f'is_win_{rodada_check}' not in df_season.columns:\n",
    "                print(f\"  ❌ Season {seasons}: Falta coluna is_win_{rodada_check}\")\n",
    "                tem_todas_rodadas = False\n",
    "                break\n",
    "        \n",
    "        if not tem_todas_rodadas:\n",
    "            break\n",
    "            \n",
    "        # Para cada rodada (1 a 10)\n",
    "        for rounds in range(1, 11):\n",
    "            # Buscar o resultado do time nesta rodada específica\n",
    "            mask = (df_final_com_pontos['season'] == seasons) & (df_final_com_pontos['club_id'] == clubs)\n",
    "            \n",
    "            # VERIFICAÇÃO: Confirmar que encontrou o time\n",
    "            time_data = df_final_com_pontos.loc[mask, f'is_win_{rounds}']\n",
    "            if len(time_data) == 0:\n",
    "                print(f\"  ⚠️ Time {clubs} não encontrado na season {seasons}\")\n",
    "                break\n",
    "                \n",
    "            is_win = time_data.iloc[0]\n",
    "            \n",
    "            # Calcular pontos da rodada\n",
    "            if pd.notna(is_win):  # Só processar se não for NaN\n",
    "                if is_win == 1:  # Vitória\n",
    "                    tt_points += 3\n",
    "                elif is_win == 2:  # Empate\n",
    "                    tt_points += 1\n",
    "                # is_win == 0 = derrota, não soma pontos\n",
    "            \n",
    "            # Salvar pontos acumulados até esta rodada\n",
    "            df_final_com_pontos.loc[mask, f'total_points_{rounds}'] = tt_points\n",
    "        \n",
    "        times_processados += 1\n",
    "    \n",
    "    print(f\"  ✅ {times_processados} times processados na season {seasons}\")\n",
    "\n",
    "print(f\"\\n🎉 Cálculo concluído!\")\n",
    "print(f\"Seasons processadas: {seasons_disponiveis}\")\n",
    "\n",
    "# Verificar resultado\n",
    "print(\"\\nExemplo - Pontos acumulados para alguns times:\")\n",
    "for season in sorted(df_final_com_pontos['season'].unique())[:2]:  # Mostrar 2 seasons\n",
    "    print(f\"\\nSeason {season}:\")\n",
    "    sample = df_final_com_pontos[df_final_com_pontos['season'] == season].head(3)\n",
    "    for _, row in sample.iterrows():\n",
    "        pontos_10_rodadas = [row[f'total_points_{i}'] for i in range(1, 11)]\n",
    "        print(f\"  Time {row['club_id']} ({row['name']}): {pontos_10_rodadas}\")"
   ]
  },
  {
   "cell_type": "code",
   "execution_count": null,
   "id": "2c2cfc08",
   "metadata": {},
   "outputs": [],
   "source": [
    "df_final_com_pontos.columns.tolist()"
   ]
  },
  {
   "cell_type": "code",
   "execution_count": null,
   "id": "257fff0b",
   "metadata": {},
   "outputs": [],
   "source": [
    "gols_pto_total = 0\n",
    "gols_sofridos_total = 0\n",
    "saldo_gols_total = 0\n",
    "# Vamos agora adcionar a quantidade de gols feitas nas 10 primeiras rodadas tanto pró quanto contra e o saldo de gols\n",
    "for seasons in df_final_com_pontos['season'].unique():\n",
    "    df_season = df_final_com_pontos[df_final_com_pontos['season'] == seasons]\n",
    "    \n",
    "    for clubs in df_season['club_id'].unique():\n",
    "        for rounds in range(1, 11):\n",
    "            mask = (df_final_com_pontos['season'] == seasons) & (df_final_com_pontos['club_id'] == clubs)\n",
    "            gols_pro = df_season.loc[mask, f'own_goals_{rounds}'].values[0]\n",
    "            gols_pto_total += gols_pro\n",
    "            gols_sofridos = df_season.loc[mask, f'opponent_goals_{rounds}'].values[0]\n",
    "            gols_sofridos_total += gols_sofridos\n",
    "            saldo_gols_total += (gols_pro - gols_sofridos)\n",
    "            print(f\"Time: {clubs}, Rodada: {rounds}, Gols Pró: {gols_pto_total}\")\n",
    "        df_final_com_pontos.loc[mask, 'gols_pro'] = gols_pto_total\n",
    "        df_final_com_pontos.loc[mask, 'gols_sofridos'] = gols_sofridos_total\n",
    "        df_final_com_pontos.loc[mask, 'saldo_gols'] = saldo_gols_total\n",
    "        gols_pto_total = 0  # Resetar para o próximo time\n",
    "        gols_sofridos_total = 0  # Resetar para o próximo time\n",
    "        saldo_gols_total = 0  # Resetar para o próximo time\n",
    "\n"
   ]
  },
  {
   "cell_type": "code",
   "execution_count": null,
   "id": "9c920179",
   "metadata": {},
   "outputs": [],
   "source": [
    "#Vamos ver novamente o dataframe final\n",
    "df_final_com_pontos.head(10)"
   ]
  },
  {
   "cell_type": "code",
   "execution_count": null,
   "id": "b5717c4f",
   "metadata": {},
   "outputs": [],
   "source": [
    "df_final_com_pontos.columns.tolist()"
   ]
  },
  {
   "cell_type": "code",
   "execution_count": null,
   "id": "5fe2ff71",
   "metadata": {},
   "outputs": [],
   "source": [
    "#Vamos exportar a tabela final da premier league para um csv\n",
    "df_final_com_pontos.to_csv('df_final_premier_league.csv', index=False)"
   ]
  },
  {
   "cell_type": "markdown",
   "id": "e8efcea5",
   "metadata": {},
   "source": [
    "\n",
    "---\n",
    "\n",
    "# Parte 3: Aplicação do Algoritmo KNN\n",
    "\n",
    "---\n"
   ]
  },
  {
   "cell_type": "markdown",
   "id": "76a5ef71",
   "metadata": {},
   "source": [
    "# Bem Vindo!\n",
    "Agora sim, Vamos começar o KNN com a nossa tabela da premier league!"
   ]
  },
  {
   "cell_type": "code",
   "execution_count": null,
   "id": "8dd078dc",
   "metadata": {},
   "outputs": [],
   "source": [
    "import numpy as np\n",
    "import pandas as pd\n"
   ]
  },
  {
   "cell_type": "code",
   "execution_count": null,
   "id": "a2de48de",
   "metadata": {},
   "outputs": [],
   "source": [
    "#Primeiro vamos carregar o dataframe que criamos no notebook anterior\n",
    "df_final_com_pontos = pd.read_csv('df_final_premier_league.csv')"
   ]
  },
  {
   "cell_type": "code",
   "execution_count": null,
   "id": "40f64647",
   "metadata": {},
   "outputs": [],
   "source": [
    "#Vamos agora verificar o tipo dos dados \n",
    "df_final_com_pontos.dtypes"
   ]
  },
  {
   "cell_type": "code",
   "execution_count": null,
   "id": "18c09563",
   "metadata": {},
   "outputs": [],
   "source": [
    "#Vamos começar retirando o nome dos times  pois agora ele não é mais necessários\n",
    "df_final_com_pontos = df_final_com_pontos.drop(columns=['name'])"
   ]
  },
  {
   "cell_type": "code",
   "execution_count": null,
   "id": "a78ecb9a",
   "metadata": {},
   "outputs": [],
   "source": [
    "#Vamos também retirar o código do time, pois ele pode acabar enviesando o modelo, induzindo-o a pensaar que um time tende a repetir o desempenho \n",
    "df_final_com_pontos = df_final_com_pontos.drop(columns=['club_id'])"
   ]
  },
  {
   "cell_type": "markdown",
   "id": "8fa0e9c4",
   "metadata": {},
   "source": [
    "Começando com o KNN:"
   ]
  },
  {
   "cell_type": "code",
   "execution_count": null,
   "id": "4e0c382f",
   "metadata": {},
   "outputs": [],
   "source": [
    "from sklearn.preprocessing import MinMaxScaler\n",
    "from sklearn.model_selection import train_test_split\n",
    "from sklearn.neighbors import KNeighborsClassifier\n",
    "from sklearn.metrics import confusion_matrix, classification_report\n"
   ]
  },
  {
   "cell_type": "code",
   "execution_count": null,
   "id": "6dc630ae",
   "metadata": {},
   "outputs": [],
   "source": [
    "# Vamos definir X e Y. Y será a coluna last_position\n",
    "X = df_final_com_pontos.drop(columns=['last_position'])\n"
   ]
  },
  {
   "cell_type": "code",
   "execution_count": null,
   "id": "49291984",
   "metadata": {},
   "outputs": [],
   "source": [
    "#Vamos separar nosso x test e x train de acordo com as temporadas.\n",
    "X_train = X[X['season'] != 2024]\n",
    "X_test = X[X['season'] == 2024]\n",
    "\n",
    "# Agora vamos separar y para ser apenas a coluna last_position\n",
    "y_train = df_final_com_pontos[df_final_com_pontos['season'] != 2024]['last_position']\n",
    "y_test = df_final_com_pontos[df_final_com_pontos['season'] == 2024]['last_position']"
   ]
  },
  {
   "cell_type": "code",
   "execution_count": null,
   "id": "a9137675",
   "metadata": {},
   "outputs": [],
   "source": [
    "#Usando um scaler para normalizar os dados\n",
    "scaler = MinMaxScaler(feature_range=(0,1))"
   ]
  },
  {
   "cell_type": "code",
   "execution_count": null,
   "id": "50696968",
   "metadata": {},
   "outputs": [],
   "source": [
    "#Aplicando a normalização nos dados de treino e teste\n",
    "X_train = scaler.fit_transform(X_train)\n",
    "X_test = scaler.fit_transform(X_test)\n"
   ]
  },
  {
   "cell_type": "code",
   "execution_count": null,
   "id": "6d04455e",
   "metadata": {},
   "outputs": [],
   "source": [
    "knn = KNeighborsClassifier(n_neighbors=10)\n"
   ]
  },
  {
   "cell_type": "code",
   "execution_count": null,
   "id": "ac897e6b",
   "metadata": {},
   "outputs": [],
   "source": [
    "#Vamos treinar o modelo com os dados de treino\n",
    "knn.fit(X_train, y_train)"
   ]
  },
  {
   "cell_type": "code",
   "execution_count": null,
   "id": "86087a65",
   "metadata": {},
   "outputs": [],
   "source": [
    "#Achando as predições\n",
    "y_pred = knn.predict(X_test)"
   ]
  },
  {
   "cell_type": "code",
   "execution_count": null,
   "id": "6257934d",
   "metadata": {},
   "outputs": [],
   "source": [
    "# SOLUÇÃO CORRIGIDA: Garantir posições únicas sem criar novas duplicatas\n",
    "def corrigir_posicoes_duplicadas_v2(y_pred, X_test_original, criterios_desempate):\n",
    "    \"\"\"\n",
    "    Versão corrigida que garante posições únicas de 1 a 20\n",
    "    \"\"\"\n",
    "    import pandas as pd\n",
    "    \n",
    "    # Criar DataFrame com predições e dados originais\n",
    "    df_pred = pd.DataFrame(X_test_original)\n",
    "    df_pred['posicao_prevista'] = y_pred\n",
    "    df_pred['indice_original'] = range(len(y_pred))\n",
    "    \n",
    "    print(f\"=== DIAGNÓSTICO INICIAL ===\")\n",
    "    print(f\"Predições originais: {sorted(y_pred)}\")\n",
    "    \n",
    "    # Contar duplicatas\n",
    "    from collections import Counter\n",
    "    contagem = Counter(y_pred)\n",
    "    duplicadas = {pos: count for pos, count in contagem.items() if count > 1}\n",
    "    print(f\"Posições duplicadas: {duplicadas}\")\n",
    "    \n",
    "    # ESTRATÉGIA: Ordenar todos os times e redistribuir posições sequenciais\n",
    "    # Ordenar por: 1) posição prevista, 2) critérios de desempate\n",
    "    df_ordenado = df_pred.sort_values(\n",
    "        ['posicao_prevista'] + criterios_desempate,\n",
    "        ascending=[True] + [False] * len(criterios_desempate)\n",
    "    )\n",
    "    \n",
    "    print(f\"\\nOrdem final dos times:\")\n",
    "    for i, (_, row) in enumerate(df_ordenado.iterrows()):\n",
    "        nova_pos = i + 1\n",
    "        pos_original = row['posicao_prevista']\n",
    "        criterio_valor = row[criterios_desempate[0]] if criterios_desempate else 'N/A'\n",
    "        print(f\"  Time {row['indice_original']}: pos {pos_original} → {nova_pos} (critério: {criterio_valor})\")\n",
    "    \n",
    "    # Criar array de posições corrigidas\n",
    "    y_pred_corrigido = np.zeros(len(y_pred), dtype=int)\n",
    "    for nova_posicao, (_, row) in enumerate(df_ordenado.iterrows(), 1):\n",
    "        idx_original = int(row['indice_original'])  # CORREÇÃO: converter para int\n",
    "        y_pred_corrigido[idx_original] = nova_posicao\n",
    "    \n",
    "    # VERIFICAÇÃO FINAL\n",
    "    print(f\"\\n=== VERIFICAÇÃO FINAL ===\")\n",
    "    print(f\"Posições finais: {sorted(y_pred_corrigido)}\")\n",
    "    print(f\"Posições únicas: {len(np.unique(y_pred_corrigido))}/20\")\n",
    "    print(f\"Range: {min(y_pred_corrigido)} a {max(y_pred_corrigido)}\")\n",
    "    \n",
    "    # Verificar se todas as posições 1-20 estão presentes\n",
    "    posicoes_esperadas = set(range(1, 21))\n",
    "    posicoes_reais = set(y_pred_corrigido)\n",
    "    \n",
    "    if posicoes_reais == posicoes_esperadas:\n",
    "        print(\"✅ PERFEITO: Todas as posições 1-20 estão únicas!\")\n",
    "    else:\n",
    "        print(\"❌ ERRO: Ainda há problemas!\")\n",
    "        print(f\"Faltando: {posicoes_esperadas - posicoes_reais}\")\n",
    "        print(f\"Extras: {posicoes_reais - posicoes_esperadas}\")\n",
    "    \n",
    "    return y_pred_corrigido\n",
    "\n",
    "# Primeiro, vamos verificar as predições originais\n",
    "print(\"=== DIAGNÓSTICO DAS PREDIÇÕES ===\")\n",
    "print(f\"Predições originais: {sorted(y_pred)}\")\n",
    "\n",
    "from collections import Counter\n",
    "contagem = Counter(y_pred)\n",
    "duplicadas = {pos: count for pos, count in contagem.items() if count > 1}\n",
    "print(f\"Posições duplicadas: {duplicadas}\")\n",
    "print(f\"Posições únicas: {len(np.unique(y_pred))}/20\")\n",
    "\n",
    "# Recuperar dados originais (antes da normalização) para usar como critério de desempate\n",
    "# Assumindo que temos uma coluna de pontos ou gols\n",
    "X_test_original = X[X['season'] == 2024]\n",
    "\n",
    "print(f\"\\nColunas disponíveis para desempate: {list(X_test_original.columns)}\")\n",
    "\n",
    "# DEBUG: Verificar tipos de dados\n",
    "print(f\"\\nDEBUG:\")\n",
    "print(f\"Tipo de y_pred: {type(y_pred)}\")\n",
    "print(f\"Tipo de X_test_original: {type(X_test_original)}\")\n",
    "print(f\"Shape de X_test_original: {X_test_original.shape}\")"
   ]
  },
  {
   "cell_type": "code",
   "execution_count": null,
   "id": "624d58c0",
   "metadata": {},
   "outputs": [],
   "source": [
    "# Aplicar a correção CORRIGIDA usando pontos como critério principal\n",
    "\n",
    "# Definir critérios de desempate (ordem de prioridade)\n",
    "criterios_desempate = ['total_points_10']  # Adicione outras colunas se disponível\n",
    "\n",
    "# Aplicar correção com a versão corrigida\n",
    "y_pred_corrigido = corrigir_posicoes_duplicadas_v2(\n",
    "    y_pred, \n",
    "    X_test_original, \n",
    "    criterios_desempate\n",
    ")\n",
    "\n",
    "print(\"\\n=== RESULTADO FINAL ===\")\n",
    "print(f\"Predições corrigidas: {sorted(y_pred_corrigido)}\")\n",
    "print(f\"Posições únicas: {len(np.unique(y_pred_corrigido))}/20\")\n",
    "print(f\"Range: {min(y_pred_corrigido)} a {max(y_pred_corrigido)}\")\n",
    "\n",
    "# Verificação dupla para garantir\n",
    "posicoes_esperadas = set(range(1, 21))\n",
    "posicoes_obtidas = set(y_pred_corrigido)\n",
    "\n",
    "if posicoes_obtidas == posicoes_esperadas:\n",
    "    print(\"✅ SUCESSO: Todas as posições são únicas e corretas!\")\n",
    "else:\n",
    "    print(\"❌ AINDA HÁ PROBLEMAS:\")\n",
    "    print(f\"  Faltando: {posicoes_esperadas - posicoes_obtidas}\")\n",
    "    print(f\"  Duplicadas: {posicoes_obtidas - posicoes_esperadas}\")\n",
    "\n",
    "# Comparar predições originais vs corrigidas\n",
    "print(f\"\\nComparação:\")\n",
    "print(f\"Original:   {y_pred}\")\n",
    "print(f\"Corrigido:  {y_pred_corrigido}\")\n",
    "\n",
    "# Calcular nova acurácia\n",
    "from sklearn.metrics import accuracy_score\n",
    "nova_acuracia = accuracy_score(y_test, y_pred_corrigido)\n",
    "acuracia_original = accuracy_score(y_test, y_pred)\n",
    "\n",
    "print(f\"\\nAcurácia original: {acuracia_original:.3f}\")\n",
    "print(f\"Acurácia corrigida: {nova_acuracia:.3f}\")\n",
    "print(f\"Diferença: {nova_acuracia - acuracia_original:+.3f}\")\n",
    "\n",
    "# Mostrar quais posições mudaram\n",
    "mudancas = sum(1 for i in range(len(y_pred)) if y_pred[i] != y_pred_corrigido[i])\n",
    "print(f\"Posições alteradas: {mudancas}/{len(y_pred)}\")"
   ]
  },
  {
   "cell_type": "markdown",
   "id": "d4db68bc",
   "metadata": {},
   "source": [
    "Como já era de se esprar, prever posições exatas de um time de futebol é algo muito difícil. Logo, vamos ajustar a coluna last position para a métrica:\n",
    "\n",
    "Campeão (1 posição)\n",
    "\n",
    "Top 6: 2-6 colocado\n",
    "\n",
    "Top 12: 7 - 12 colocado\n",
    "\n",
    "Intermediários: 13 - 17 colocado\n",
    "\n",
    "Rebaixados: 18 - 20 colocados"
   ]
  },
  {
   "cell_type": "code",
   "execution_count": null,
   "id": "42f38a6e",
   "metadata": {},
   "outputs": [],
   "source": [
    "print(y_pred)"
   ]
  },
  {
   "cell_type": "code",
   "execution_count": null,
   "id": "aaa72ebe",
   "metadata": {},
   "outputs": [],
   "source": [
    "#Vamos transformar a coluna last_position, oponnent_position_x e own_position_x em categorias\n",
    "mapeamento_posicoes = {\n",
    "    1:1,\n",
    "    2:2,\n",
    "    3:2,\n",
    "    4:2,\n",
    "    5:2,\n",
    "    6:2,\n",
    "    7:3,\n",
    "    8:3,\n",
    "    9:3,\n",
    "    10:3,\n",
    "    11:3,\n",
    "    12:3,\n",
    "    13:4,\n",
    "    14:4,\n",
    "    15:4,\n",
    "    16:4,\n",
    "    17:4,\n",
    "    18:5,\n",
    "    19:5,\n",
    "    20:5\n",
    "}\n",
    "# Aplicando o mapeamento\n",
    "#Criando uma cópia do DataFrame para evitar SettingWithCopyWarning\n",
    "df_novo_final = pd.read_csv('df_final_premier_league.csv')\n",
    "df_novo_final['last_position'] = df_novo_final['last_position'].map(mapeamento_posicoes)\n",
    "df_novo_final.head(20)\n"
   ]
  },
  {
   "cell_type": "code",
   "execution_count": null,
   "id": "5bdf7d08",
   "metadata": {},
   "outputs": [],
   "source": [
    "#Vamos criar um código que criará o número de vitórias, derrotas e empates de cada time nos 10 primeiros jogos\n",
    "vitorias = 0\n",
    "derrotas = 0\n",
    "empates = 0\n",
    "for seasons in df_novo_final['season'].unique():\n",
    "    dados_season = df_novo_final[df_novo_final['season'] == seasons]\n",
    "    for team in dados_season['name'].unique():\n",
    "        #Filtrando os dados do time\n",
    "        dados_time = df_novo_final[(df_novo_final['name'] == team) & (df_novo_final['season'] == seasons)]  \n",
    "        #Vamos fazer um for das 10 primeiras rodadas para contar cada coluna is_win\n",
    "        for i in range(1,11):\n",
    "            nome_coluna_win = f'is_win_{i}'\n",
    "            if dados_time[nome_coluna_win].values[0] == 1:\n",
    "                vitorias +=1\n",
    "            elif dados_time[nome_coluna_win].values[0] == 0:\n",
    "                derrotas +=1\n",
    "            elif dados_time[nome_coluna_win].values[0] == 2:\n",
    "                empates +=1\n",
    "        #Agora vamos adicionar as colunas de vitoria, derrota e empate no data2me além de zerar as variáveis\n",
    "        #Criando um mask:\n",
    "        mask = (df_novo_final['name'] == team) & (df_novo_final['season'] == seasons)\n",
    "        df_novo_final.loc[mask, 'vitorias'] = vitorias\n",
    "        df_novo_final.loc[mask, 'derrotas'] = derrotas\n",
    "        df_novo_final.loc[mask, 'empates'] = empates\n",
    "        vitorias = 0\n",
    "        derrotas = 0\n",
    "        empates = 0\n",
    "\n",
    "\n",
    "#Vamos olhar o resultado\n",
    "df_novo_final.head(20)"
   ]
  },
  {
   "cell_type": "code",
   "execution_count": null,
   "id": "3985d899",
   "metadata": {},
   "outputs": [],
   "source": [
    "#Vamos criar uma coluna de jogos sem perder \n",
    "jogos_sem_perder = 0\n",
    "for seasons in df_novo_final['season'].unique():\n",
    "    dados_season = df_novo_final[df_novo_final['season'] == seasons]\n",
    "    for team in dados_season['name'].unique():\n",
    "        #Filtrando os dados do time\n",
    "        dados_time = df_novo_final[(df_novo_final['name'] == team) & (df_novo_final['season'] == seasons)]  \n",
    "        #Vamos fazer um for das 10 primeiras rodadas para contar cada coluna is_win\n",
    "        for i in range(1,11):\n",
    "            nome_coluna_win = f'is_win_{i}'\n",
    "            if dados_time[nome_coluna_win].values[0] == 1:\n",
    "                jogos_sem_perder +=1\n",
    "            elif dados_time[nome_coluna_win].values[0] == 0:\n",
    "                jogos_sem_perder = 0\n",
    "            elif dados_time[nome_coluna_win].values[0] == 2:\n",
    "                jogos_sem_perder +=1\n",
    "        #Agora vamos adicionar as colunas de vitoria, derrota e empate no data2me além de zerar as variáveis\n",
    "        #Criando um mask:\n",
    "        mask = (df_novo_final['name'] == team) & (df_novo_final['season'] == seasons)\n",
    "        df_novo_final.loc[mask, 'jogos_sem_perder'] = jogos_sem_perder\n",
    "        jogos_sem_perder = 0"
   ]
  },
  {
   "cell_type": "code",
   "execution_count": null,
   "id": "aeb1e440",
   "metadata": {},
   "outputs": [],
   "source": [
    "df_novo_final.head(20)"
   ]
  },
  {
   "cell_type": "code",
   "execution_count": null,
   "id": "255009b2",
   "metadata": {},
   "outputs": [],
   "source": [
    "casa = 0\n",
    "fora = 0\n",
    "#Agora vamos criar uma coluna que contabiliza a quantidade de jogos fora de casa que o time jogou\n",
    "for seasons in df_novo_final['season'].unique():\n",
    "    dados_season = df_novo_final[df_novo_final['season'] == seasons]\n",
    "    for team in dados_season['name'].unique():\n",
    "        #Filtrando os dados do time\n",
    "        dados_time = df_novo_final[(df_novo_final['name'] == team) & (df_novo_final['season'] == seasons)] \n",
    "        #Vamos pegar cada uma das colunas hosting_x \n",
    "        for i in range(1,11):\n",
    "            nome_coluna_hosting = f'hosting_{i}'\n",
    "            if dados_time[nome_coluna_hosting].values[0] == 1:\n",
    "                casa +=1\n",
    "            elif dados_time[nome_coluna_hosting].values[0] == 0:\n",
    "                fora +=1\n",
    "        #Agora vamos adcionar as colunas de casa e fora no dataframe além de zerar as as variáveis\n",
    "        #Criando um mask:\n",
    "        mask = (df_novo_final['name'] == team) & (df_novo_final['season'] == seasons)\n",
    "        df_novo_final.loc[mask, 'casa'] = casa\n",
    "        df_novo_final.loc[mask, 'fora'] = fora\n",
    "        casa = 0\n",
    "        fora = 0\n",
    "#Vamos olhar o resultado\n",
    "df_novo_final.head(20)\n"
   ]
  },
  {
   "cell_type": "markdown",
   "id": "a3d47fe3",
   "metadata": {},
   "source": [
    "## Nova Columna: Recém_promovido\n",
    "Agora vamos criar uma nova feature que pode nos ajudar a prever melhor o futuro do campeonato"
   ]
  },
  {
   "cell_type": "code",
   "execution_count": null,
   "id": "880df41f",
   "metadata": {},
   "outputs": [],
   "source": [
    "#Vamos criar uma nova coluna para os times recém promovidos\n",
    "#2012\n",
    "mapeamento_rebaixados = {\n",
    "    'Southampton Football Club':1,\n",
    "    'Stoke City':0,\n",
    "    'Fulham Football Club':0,\n",
    "    'Aston Villa Football Club':0,\n",
    "    'West Ham United Football Club': 1,\n",
    "    'West Bromwich Albion':0,\n",
    "    'Sunderland AFC':0,\n",
    "    'Chelsea Football Club':0,\n",
    "    'Reading FC':1,\n",
    "    'Norwich City':0,\n",
    "    'Arsenal Football Club':0,\n",
    "    'Manchester City Football Club':0,\n",
    "    'Newcastle United Football Club':0,\n",
    "    'Liverpool Football Club':0,\n",
    "    'Everton Football Club':0,\n",
    "    'Queens Park Rangers':0,\n",
    "    'Swansea City':0,\n",
    "    'Manchester United Football Club':0,\n",
    "    'Wigan Athletic':0,\n",
    "    'Tottenham Hotspur Football Club':0\n",
    "}\n",
    "# Aplicando o mapeamento usando loc\n",
    "df_novo_final.loc[df_novo_final['season'] == 2012, 'recem_promovido'] = df_novo_final['name'].map(mapeamento_rebaixados)\n",
    "#Vamos olhar o resultado\n",
    "df_novo_final[df_novo_final['season'] == 2012].head(20)"
   ]
  },
  {
   "cell_type": "code",
   "execution_count": null,
   "id": "159796db",
   "metadata": {},
   "outputs": [],
   "source": [
    "#2013\n",
    "mapeamento_rebaixados = {\n",
    "    'Stoke City':0,\n",
    "    'West Bromwich Albion':0,\n",
    "    'Sunderland AFC':0,\n",
    "    'West Ham United Football Club': 0,\n",
    "    'Manchester City Football Club':0,\n",
    "    'Norwich City':0,\n",
    "    'Newcastle United Football Club':0,\n",
    "    'Southampton Football Club':0,\n",
    "    'Arsenal Football Club':0,\n",
    "    'Aston Villa Football Club':0,\n",
    "    'Crystal Palace Football Club':1,\n",
    "    'Everton Football Club':0,\n",
    "    'Tottenham Hotspur Football Club':0,\n",
    "    'Swansea City':0,\n",
    "    'Manchester United Football Club':0,\n",
    "    'Chelsea Football Club':0,\n",
    "    'Hull City':1,\n",
    "    'Liverpool Football Club':0,\n",
    "    'Cardiff City':1,\n",
    "    'Fulham Football Club':0,\n",
    "}\n",
    "# Aplicando o mapeamento usando loc\n",
    "df_novo_final.loc[df_novo_final['season'] == 2013, 'recem_promovido'] = df_novo_final['name'].map(mapeamento_rebaixados)\n",
    "#Vamos olhar o resultado\n",
    "df_novo_final[df_novo_final['season'] == 2013].head(20)"
   ]
  },
  {
   "cell_type": "code",
   "execution_count": null,
   "id": "d0359f8f",
   "metadata": {},
   "outputs": [],
   "source": [
    "#2014\n",
    "mapeamento_rebaixados = {\n",
    "    'Arsenal Football Club':0,\n",
    "    'Aston Villa Football Club':0,\n",
    "    'Burnley FC':1,\n",
    "    'Chelsea Football Club':0,\n",
    "    'Crystal Palace Football Club':0,\n",
    "    'Everton Football Club':0,\n",
    "    'Hull City':0,\n",
    "    'Leicester City Football Club':1,\n",
    "    'Liverpool Football Club':0,\n",
    "    'Manchester City Football Club':0,\n",
    "    'Manchester United Football Club':0,\n",
    "    'Newcastle United Football Club':0,\n",
    "    'Queens Park Rangers':1,\n",
    "    'Southampton Football Club':0,\n",
    "    'Stoke City':0,\n",
    "    'Sunderland AFC':0,\n",
    "    'Swansea City':0,\n",
    "    'Tottenham Hotspur Football Club':0,\n",
    "    'West Bromwich Albion':0,\n",
    "    'West Ham United Football Club': 0\n",
    "}\n",
    "# Aplicando o mapeamento usando loc\n",
    "df_novo_final.loc[df_novo_final['season'] == 2014, 'recem_promovido'] = df_novo_final['name'].map(mapeamento_rebaixados)\n",
    "#Vamos olhar o resultado\n",
    "df_novo_final[df_novo_final['season'] == 2014].head(20)\n"
   ]
  },
  {
   "cell_type": "code",
   "execution_count": null,
   "id": "37313179",
   "metadata": {},
   "outputs": [],
   "source": [
    "#2015 \n",
    "mapeamento_rebaixados = {\n",
    "    'Arsenal Football Club':0,\n",
    "    'Aston Villa Football Club':0,\n",
    "    'Association Football Club Bournemouth':1,\n",
    "    'Chelsea Football Club':0,\n",
    "    'Crystal Palace Football Club':0,\n",
    "    'Everton Football Club':0,\n",
    "    'Leicester City Football Club':0,\n",
    "    'Liverpool Football Club':0,\n",
    "    'Manchester City Football Club':0,\n",
    "    'Manchester United Football Club':0,\n",
    "    'Newcastle United Football Club':0,\n",
    "    'Norwich City':1,\n",
    "    'Southampton Football Club':0,\n",
    "    'Stoke City':0,\n",
    "    'Sunderland AFC':0,\n",
    "    'Swansea City':0,\n",
    "    'Tottenham Hotspur Football Club':0,\n",
    "    'Watford FC':1,\n",
    "    'West Bromwich Albion':0,\n",
    "    'West Ham United Football Club': 0\n",
    "}\n",
    "# Aplicando o mapeamento usando loc\n",
    "df_novo_final.loc[df_novo_final['season'] == 2015, 'recem_promovido'] = df_novo_final['name'].map(mapeamento_rebaixados)\n",
    "#Vamos olhar o resultado\n",
    "df_novo_final[df_novo_final['season'] == 2015].head(20)"
   ]
  },
  {
   "cell_type": "code",
   "execution_count": null,
   "id": "611bd50a",
   "metadata": {},
   "outputs": [],
   "source": [
    "#2016 \n",
    "mapeamento_rebaixados = {\n",
    "    'Arsenal Football Club':0,\n",
    "    'Association Football Club Bournemouth':0,\n",
    "    'Burnley FC':1,\n",
    "    'Chelsea Football Club':0,\n",
    "    'Crystal Palace Football Club':0,\n",
    "    'Everton Football Club':0,\n",
    "    'Hull City':1,\n",
    "    'Leicester City Football Club':0,\n",
    "    'Liverpool Football Club':0,\n",
    "    'Manchester City Football Club':0,\n",
    "    'Manchester United Football Club':0,\n",
    "    'Middlesbrough FC':1,\n",
    "    'Southampton Football Club':0,\n",
    "    'Stoke City':0,\n",
    "    'Sunderland AFC':1,\n",
    "    'Swansea City':0,\n",
    "    'Tottenham Hotspur Football Club':0,\n",
    "    'Watford FC':0,\n",
    "    'West Bromwich Albion':0,\n",
    "    'West Ham United Football Club': 0\n",
    "}\n",
    "# Aplicando o mapeamento usando loc\n",
    "df_novo_final.loc[df_novo_final['season'] == 2016, 'recem_promovido'] = df_novo_final['name'].map(mapeamento_rebaixados)\n",
    "#Vamos olhar o resultado\n",
    "df_novo_final[df_novo_final['season'] == 2016].head(20)\n"
   ]
  },
  {
   "cell_type": "code",
   "execution_count": null,
   "id": "d21aced1",
   "metadata": {},
   "outputs": [],
   "source": [
    "#2017 \n",
    "mapeamento_rebaixados = {\n",
    "    'Arsenal Football Club':0,\n",
    "    'Association Football Club Bournemouth':0,\n",
    "    'Brighton and Hove Albion Football Club':1,\n",
    "    'Burnley FC':0,\n",
    "    'Chelsea Football Club':0,\n",
    "    'Crystal Palace Football Club':0,\n",
    "    'Everton Football Club':0,\n",
    "    'Huddersfield Town':1,\n",
    "    'Leicester City Football Club':0,\n",
    "    'Liverpool Football Club':0,\n",
    "    'Manchester City Football Club':0,\n",
    "    'Manchester United Football Club':0,\n",
    "    'Newcastle United Football Club':1,\n",
    "    'Southampton Football Club':0,\n",
    "    'Stoke City':0,\n",
    "    'Swansea City':0,\n",
    "    'Tottenham Hotspur Football Club':0,\n",
    "    'Watford FC':0,\n",
    "    'West Bromwich Albion':0,\n",
    "    'West Ham United Football Club': 0\n",
    "}\n",
    "# Aplicando o mapeamento usando loc\n",
    "df_novo_final.loc[df_novo_final['season'] == 2017, 'recem_promovido'] = df_novo_final['name'].map(mapeamento_rebaixados)\n",
    "#Vamos olhar o resultado\n",
    "df_novo_final[df_novo_final['season'] == 2017].head(20)"
   ]
  },
  {
   "cell_type": "code",
   "execution_count": null,
   "id": "b35effc1",
   "metadata": {},
   "outputs": [],
   "source": [
    "#2018 \n",
    "mapeamento_rebaixados = {\n",
    "    'Arsenal Football Club':0,\n",
    "    'Association Football Club Bournemouth':0,\n",
    "    'Brighton and Hove Albion Football Club':0,\n",
    "    'Burnley FC':0,\n",
    "    'Cardiff City':1,\n",
    "    'Chelsea Football Club':0,\n",
    "    'Crystal Palace Football Club':0,\n",
    "    'Everton Football Club':0,\n",
    "    'Fulham Football Club':1,\n",
    "    'Huddersfield Town':0,\n",
    "    'Leicester City Football Club':0,\n",
    "    'Liverpool Football Club':0,\n",
    "    'Manchester City Football Club':0,\n",
    "    'Manchester United Football Club':0,\n",
    "    'Newcastle United Football Club':0,\n",
    "    'Southampton Football Club':0,\n",
    "    'Tottenham Hotspur Football Club':0,\n",
    "    'Watford FC':0,\n",
    "    'West Ham United Football Club': 0,\n",
    "    'Wolverhampton Wanderers Football Club':1\n",
    "}\n",
    "# Aplicando o mapeamento usando loc\n",
    "df_novo_final.loc[df_novo_final['season'] == 2018, 'recem_promovido'] = df_novo_final['name'].map(mapeamento_rebaixados)\n",
    "#Vamos olhar o resultado\n",
    "df_novo_final[df_novo_final['season'] == 2018].head(20)\n"
   ]
  },
  {
   "cell_type": "code",
   "execution_count": null,
   "id": "d40e262f",
   "metadata": {},
   "outputs": [],
   "source": [
    "#2021\n",
    "mapeamento_rebaixados = {\n",
    "    'Arsenal Football Club':0,\n",
    "    'Aston Villa Football Club':0,\n",
    "    'Brentford Football Club':1,\n",
    "    'Brighton and Hove Albion Football Club':0,\n",
    "    'Burnley FC':0,\n",
    "    'Chelsea Football Club':0,\n",
    "    'Crystal Palace Football Club':0,\n",
    "    'Everton Football Club':0,\n",
    "    'Leeds United':0,\n",
    "    'Leicester City Football Club':0,\n",
    "    'Liverpool Football Club':0,\n",
    "    'Manchester City Football Club':0,\n",
    "    'Manchester United Football Club':0,\n",
    "    'Newcastle United Football Club':0,\n",
    "    'Norwich City':1,\n",
    "    'Southampton Football Club':0,\n",
    "    'Tottenham Hotspur Football Club':0,\n",
    "    'Watford FC':1,\n",
    "    'West Ham United Football Club': 0,\n",
    "    'Wolverhampton Wanderers Football Club':0,\n",
    "}\n",
    "# Aplicando o mapeamento usando loc\n",
    "df_novo_final.loc[df_novo_final['season'] == 2021, 'recem_promovido'] = df_novo_final['name'].map(mapeamento_rebaixados)\n",
    "#Vamos olhar o resultado\n",
    "df_novo_final[df_novo_final['season'] == 2021].head(20)"
   ]
  },
  {
   "cell_type": "code",
   "execution_count": null,
   "id": "cb354e77",
   "metadata": {},
   "outputs": [],
   "source": [
    "#2022\n",
    "mapeamento_rebaixados = {\n",
    "    'Arsenal Football Club':0,\n",
    "    'Aston Villa Football Club':0,\n",
    "    'Association Football Club Bournemouth':1,\n",
    "    'Brentford Football Club':0,\n",
    "    'Brighton and Hove Albion Football Club':0,\n",
    "    'Chelsea Football Club':0,\n",
    "    'Crystal Palace Football Club':0,\n",
    "    'Everton Football Club':0,\n",
    "    'Fulham Football Club':1,\n",
    "    'Leeds United':0,\n",
    "    'Leicester City Football Club':0,\n",
    "    'Liverpool Football Club':0,\n",
    "    'Manchester City Football Club':0,\n",
    "    'Manchester United Football Club':0,\n",
    "    'Newcastle United Football Club':0,\n",
    "    'Nottingham Forest Football Club':1,\n",
    "    'Southampton Football Club':0,\n",
    "    'Tottenham Hotspur Football Club':0,\n",
    "    'West Ham United Football Club': 0,\n",
    "    'Wolverhampton Wanderers Football Club':0\n",
    "}\n",
    "# Aplicando o mapeamento usando loc\n",
    "df_novo_final.loc[df_novo_final['season'] == 2022, 'recem_promovido'] = df_novo_final['name'].map(mapeamento_rebaixados)\n",
    "#Vamos olhar o resultado\n",
    "df_novo_final[df_novo_final['season'] == 2022].head(20)"
   ]
  },
  {
   "cell_type": "code",
   "execution_count": null,
   "id": "f1e82bc2",
   "metadata": {},
   "outputs": [],
   "source": [
    "#2023\n",
    "mapeamento_rebaixados = {\n",
    "    'Arsenal Football Club':0,\n",
    "    'Aston Villa Football Club':0,\n",
    "    'Association Football Club Bournemouth':0,\n",
    "    'Brentford Football Club':0,\n",
    "    'Brighton and Hove Albion Football Club':0,\n",
    "    'Burnley FC':1,\n",
    "    'Chelsea Football Club':0,\n",
    "    'Crystal Palace Football Club':0,\n",
    "    'Everton Football Club':0,\n",
    "    'Fulham Football Club':0,\n",
    "    'Luton Town':1,\n",
    "    'Liverpool Football Club':0,\n",
    "    'Manchester City Football Club':0,\n",
    "    'Manchester United Football Club':0,\n",
    "    'Newcastle United Football Club':0,\n",
    "    'Nottingham Forest Football Club':0,\n",
    "    'Sheffield United':1,\n",
    "    'Tottenham Hotspur Football Club':0,\n",
    "    'West Ham United Football Club': 0,\n",
    "    'Wolverhampton Wanderers Football Club':0\n",
    "}\n",
    "# Aplicando o mapeamento usando loc\n",
    "df_novo_final.loc[df_novo_final['season'] == 2023, 'recem_promovido'] = df_novo_final['name'].map(mapeamento_rebaixados)\n",
    "#Vamos olhar o resultado\n",
    "df_novo_final[df_novo_final['season'] == 2023].head(20)"
   ]
  },
  {
   "cell_type": "code",
   "execution_count": null,
   "id": "9077e0d6",
   "metadata": {},
   "outputs": [],
   "source": [
    "#2024\n",
    "mapeamento_rebaixados = {\n",
    "    'Manchester City Football Club':0,\n",
    "    'Arsenal Football Club':0,\n",
    "    'Liverpool Football Club':0,\n",
    "    'Aston Villa Football Club':0,\n",
    "    'Chelsea Football Club':0,\n",
    "    'Manchester United Football Club':0,\n",
    "    'Tottenham Hotspur Football Club':0,\n",
    "    'Newcastle United Football Club':0,\n",
    "    'West Ham United Football Club': 0,\n",
    "    'Brighton and Hove Albion Football Club':0,\n",
    "    'Wolverhampton Wanderers Football Club':0,\n",
    "    'Crystal Palace Football Club':0,\n",
    "    'Fulham Football Club':0,\n",
    "    'Everton Football Club':0,\n",
    "    'Brentford Football Club':0,\n",
    "    'Association Football Club Bournemouth':0,\n",
    "    'Nottingham Forest Football Club':0,\n",
    "    'Leicester City Football Club':1,\n",
    "    'Ipswich Town Football Club':1,\n",
    "    'Southampton Football Club':1\n",
    "}\n",
    "# Aplicando o mapeamento usando loc\n",
    "df_novo_final.loc[df_novo_final['season'] == 2024, 'recem_promovido'] = df_novo_final['name'].map(mapeamento_rebaixados)\n",
    "#Vamos olhar o resultado\n",
    "df_novo_final[df_novo_final['season'] == 2024].head(20)\n"
   ]
  },
  {
   "cell_type": "markdown",
   "id": "a2be3548",
   "metadata": {},
   "source": [
    "Vamos agora criar um novo dataframe Com as novas colunas e ver como será a previsão dele e a acurácia"
   ]
  },
  {
   "cell_type": "code",
   "execution_count": null,
   "id": "274b3950",
   "metadata": {},
   "outputs": [],
   "source": [
    "#Vamos ver as colunas que mais se destacam\n",
    "df_novo_final.columns.to_list()"
   ]
  },
  {
   "cell_type": "code",
   "execution_count": null,
   "id": "0793f409",
   "metadata": {},
   "outputs": [],
   "source": [
    "#Novo df:\n",
    "df_previa = df_novo_final[['season', 'last_position', 'total_points_10', 'vitorias', 'derrotas', 'empates', 'casa', 'fora','gols_pro','gols_sofridos','saldo_gols','jogos_sem_perder','recem_promovido']].copy()\n",
    "#Vamos ver o novo df\n",
    "df_previa.head(20)"
   ]
  },
  {
   "cell_type": "code",
   "execution_count": null,
   "id": "5e36eeb6",
   "metadata": {},
   "outputs": [],
   "source": [
    "#Como já importamos as bibliotecas, podemos começar separando os dados\n",
    "X = df_previa.drop(columns=['last_position'])\n",
    "#Vamos separar nosso x test e x train de acordo com as temporadas.\n",
    "X_train = X[X['season'] != 2014]\n",
    "X_test = X[X['season'] == 2014]\n",
    "# Agora vamos separar y para ser apenas a coluna last_position\n",
    "y_train = df_previa[df_previa['season'] != 2014]['last_position']\n",
    "y_test = df_previa[df_previa['season'] == 2014]['last_position']"
   ]
  },
  {
   "cell_type": "code",
   "execution_count": null,
   "id": "9f4067df",
   "metadata": {},
   "outputs": [],
   "source": [
    "#Agora vamos aplicar o scaler nos dados de treino e teste\n",
    "scaler = MinMaxScaler(feature_range=(0,1))"
   ]
  },
  {
   "cell_type": "code",
   "execution_count": null,
   "id": "7689bf06",
   "metadata": {},
   "outputs": [],
   "source": [
    "#Vamos aplicar o scaler nos dados de treino e teste\n",
    "X_train = scaler.fit_transform(X_train)\n",
    "X_test = scaler.fit_transform(X_test)"
   ]
  },
  {
   "cell_type": "code",
   "execution_count": null,
   "id": "ca8f1685",
   "metadata": {},
   "outputs": [],
   "source": [
    "#Vamos definir o modelo KNN\n",
    "knn = KNeighborsClassifier(n_neighbors=4)"
   ]
  },
  {
   "cell_type": "code",
   "execution_count": null,
   "id": "e7302abd",
   "metadata": {},
   "outputs": [],
   "source": [
    "#Vamos aplicar o knn nos dados de treino\n",
    "knn.fit(X_train, y_train)"
   ]
  },
  {
   "cell_type": "code",
   "execution_count": null,
   "id": "63090d08",
   "metadata": {},
   "outputs": [],
   "source": [
    "#vamos fazer as predições\n",
    "y_pred = knn.predict(X_test)\n",
    "print(f\"Predições: {y_pred}\")"
   ]
  },
  {
   "cell_type": "code",
   "execution_count": null,
   "id": "efdb7b82",
   "metadata": {},
   "outputs": [],
   "source": [
    "#Agora vamos calcular a acurácia do modelo\n",
    "from sklearn.metrics import accuracy_score\n",
    "acuracia = accuracy_score(y_test, y_pred)\n",
    "print(f\"Acurácia do modelo: {acuracia:.2f}\")"
   ]
  },
  {
   "cell_type": "code",
   "execution_count": null,
   "id": "162ed830",
   "metadata": {},
   "outputs": [],
   "source": [
    "#Vamos recuperar os dados como nome e códigos para ver se as predições estão corretas\n",
    "df_final_com_pontos = pd.read_csv('df_final_premier_league.csv')\n",
    "#Vamos criar um novo dataframe com as predições\n",
    "df_predicoes = pd.DataFrame({\n",
    "    'name': df_final_com_pontos[df_final_com_pontos['season'] == 2014]['name'].values,\n",
    "    'last_position': y_pred\n",
    "})\n",
    "#Vamos ver o dataframe de predições\n",
    "print(df_predicoes.head(20))\n"
   ]
  },
  {
   "cell_type": "code",
   "execution_count": null,
   "id": "bcb56c6f",
   "metadata": {},
   "outputs": [],
   "source": [
    "#Vamos printar as colunas para vermos as mais interessantes\n",
    "df_novo_final.columns.to_list()"
   ]
  },
  {
   "cell_type": "markdown",
   "id": "adc8701a",
   "metadata": {},
   "source": [
    "Agora vamos criar uma métrica da força dos times fornecida pela IA como se fosse antes do campeonato"
   ]
  },
  {
   "cell_type": "code",
   "execution_count": null,
   "id": "c11e2fb2",
   "metadata": {},
   "outputs": [],
   "source": [
    "#Força dos times em 2012:\n",
    "mapeamento_forca = {\n",
    "    'Southampton Football Club':1,\n",
    "    'Stoke City':2,\n",
    "    'Fulham Football Club':3,\n",
    "    'Aston Villa Football Club':3,\n",
    "    'West Ham United Football Club': 2,\n",
    "    'West Bromwich Albion':3,\n",
    "    'Sunderland AFC':3,\n",
    "    'Chelsea Football Club':5,\n",
    "    'Reading FC':1,\n",
    "    'Norwich City':2,\n",
    "    'Arsenal Football Club':4,\n",
    "    'Manchester City Football Club':5,\n",
    "    'Newcastle United Football Club':3,\n",
    "    'Liverpool Football Club':4,\n",
    "    'Everton Football Club':3,\n",
    "    'Queens Park Rangers':2,\n",
    "    'Swansea City':2,\n",
    "    'Manchester United Football Club':5,\n",
    "    'Wigan Athletic':1,\n",
    "    'Tottenham Hotspur Football Club':4\n",
    "}\n",
    "\n",
    "#Vamos mapear apenas para season 2012, portanto usaremos loc\n",
    "df_novo_final.loc[df_novo_final['season'] == 2012, 'forca'] = df_novo_final.loc[df_novo_final['season'] == 2012, 'name'].map(mapeamento_forca)\n",
    "\n",
    "df_novo_final.loc[df_novo_final['season']==2012].head(20)\n",
    "\n"
   ]
  },
  {
   "cell_type": "code",
   "execution_count": null,
   "id": "2d535e19",
   "metadata": {},
   "outputs": [],
   "source": [
    "#Agora vamos fazer o mesmo para a temporada 2013\n",
    "df_novo_final.loc[df_novo_final['season']==2013].head(20)"
   ]
  },
  {
   "cell_type": "code",
   "execution_count": null,
   "id": "15c1460a",
   "metadata": {},
   "outputs": [],
   "source": [
    "\n",
    "mapeamento_forca = {\n",
    "    'Stoke City':2,\n",
    "    'West Bromwich Albion':3,\n",
    "    'Sunderland AFC':1,\n",
    "    'West Ham United Football Club': 2,\n",
    "    'Manchester City Football Club':5,\n",
    "    'Norwich City':2,\n",
    "    'Newcastle United Football Club':3,\n",
    "    'Southampton Football Club':3,\n",
    "    'Arsenal Football Club':4,\n",
    "    'Aston Villa Football Club':3,\n",
    "    'Crystal Palace Football Club':1,\n",
    "    'Everton Football Club':3,\n",
    "    'Tottenham Hotspur Football Club':4,\n",
    "    'Swansea City':3,\n",
    "    'Manchester United Football Club':5,\n",
    "    'Chelsea Football Club':5,\n",
    "    'Hull City':1,\n",
    "    'Liverpool Football Club':4,\n",
    "    'Cardiff City':2,\n",
    "    'Fulham Football Club':2,\n",
    "}\n",
    "\n",
    "#Vamos mapear apenas para season 2013, portanto usaremos loc\n",
    "df_novo_final.loc[df_novo_final['season'] == 2013, 'forca'] = df_novo_final.loc[df_novo_final['season'] == 2013, 'name'].map(mapeamento_forca)\n",
    "df_novo_final.loc[df_novo_final['season']==2013].head(20)"
   ]
  },
  {
   "cell_type": "code",
   "execution_count": null,
   "id": "4702c5b4",
   "metadata": {},
   "outputs": [],
   "source": [
    "#Vamos ver para 2014\n",
    "df_novo_final.loc[df_novo_final['season']==2014].head(20)"
   ]
  },
  {
   "cell_type": "code",
   "execution_count": null,
   "id": "313d6886",
   "metadata": {},
   "outputs": [],
   "source": [
    "#2014\n",
    "mapeamento_forca = {\n",
    "    'Arsenal Football Club':5,\n",
    "    'Queens Park Rangers':2,\n",
    "    'West Bromwich Albion':2,\n",
    "    'Liverpool Football Club':4,\n",
    "    'Southampton Football Club':3,\n",
    "    'Stoke City':3,\n",
    "    'Crystal Palace Football Club':2,\n",
    "    'Hull City':2,\n",
    "    'Newcastle United Football Club':3,\n",
    "    'West Ham United Football Club': 3,\n",
    "    'Swansea City':3,\n",
    "    'Sunderland AFC':3,\n",
    "    'Chelsea Football Club':5,\n",
    "    'Tottenham Hotspur Football Club':4,\n",
    "    'Burnley FC':1,\n",
    "    'Leicester City Football Club':2,\n",
    "    'Everton Football Club':4,\n",
    "    'Manchester City Football Club':5,\n",
    "    'Aston Villa Football Club':2,\n",
    "    'Manchester United Football Club':5\n",
    "}\n",
    "#Vamos mapear apenas para season 2014, portanto usaremos loc    \n",
    "df_novo_final.loc[df_novo_final['season'] == 2014, 'forca'] = df_novo_final.loc[df_novo_final['season'] == 2014, 'name'].map(mapeamento_forca)\n",
    "df_novo_final.loc[df_novo_final['season']==2014].head(20)\n"
   ]
  },
  {
   "cell_type": "code",
   "execution_count": null,
   "id": "58bbeb61",
   "metadata": {},
   "outputs": [],
   "source": [
    "#Agora vamos para temporada 2015\n",
    "df_novo_final.loc[df_novo_final['season']==2015].head(20)"
   ]
  },
  {
   "cell_type": "code",
   "execution_count": null,
   "id": "24f33d1f",
   "metadata": {},
   "outputs": [],
   "source": [
    "#2015:\n",
    "mapeamento_forca = {\n",
    "    'Chelsea Football Club':5,\n",
    "    'Manchester City Football Club':5,\n",
    "    'Arsenal Football Club':5,\n",
    "    'Manchester United Football Club':5,\n",
    "    'Liverpool Football Club':4,\n",
    "    'Tottenham Hotspur Football Club':4,\n",
    "    'Everton Football Club':4,\n",
    "    'Southampton Football Club':3,\n",
    "    'Stoke City':3,\n",
    "    'Swansea City':3,\n",
    "    'Crystal Palace Football Club':3,\n",
    "    'West Ham United Football Club': 3,\n",
    "    'Newcastle United Football Club':3,\n",
    "    'West Bromwich Albion':3,\n",
    "    'Leicester City Football Club':2,\n",
    "    'Aston Villa Football Club':2,\n",
    "    'Sunderland AFC':2,\n",
    "    'Norwich City':2,\n",
    "    'Association Football Club Bournemouth':2,\n",
    "    'Watford FC':1\n",
    "}\n",
    "\n",
    "#Vamos mapear apenas para season 2015, portanto usaremos loc\n",
    "df_novo_final.loc[df_novo_final['season'] == 2015, 'forca'] = df_novo_final.loc[df_novo_final['season'] == 2015, 'name'].map(mapeamento_forca)\n",
    "df_novo_final.loc[df_novo_final['season']==2015].head(20)"
   ]
  },
  {
   "cell_type": "code",
   "execution_count": null,
   "id": "c4d1f465",
   "metadata": {},
   "outputs": [],
   "source": [
    "#Vamos ver 2016 agora \n",
    "df_novo_final.loc[df_novo_final['season']==2016].head(20)"
   ]
  },
  {
   "cell_type": "code",
   "execution_count": null,
   "id": "726343ed",
   "metadata": {},
   "outputs": [],
   "source": [
    "#2016:\n",
    "mapeamento_forca = {\n",
    "    'Manchester City Football Club':5,\n",
    "    'Manchester United Football Club':5,\n",
    "    'Chelsea Football Club':5,\n",
    "    'Arsenal Football Club':5,\n",
    "    'Tottenham Hotspur Football Club':4,\n",
    "    'Liverpool Football Club':4,\n",
    "    'Everton Football Club':4,\n",
    "    'Southampton Football Club':3,\n",
    "    'Leicester City Football Club':4,\n",
    "    'West Ham United Football Club': 3,\n",
    "    'Stoke City':3,\n",
    "    'Sunderland AFC':3,\n",
    "    'Crystal Palace Football Club':3,\n",
    "    'West Bromwich Albion':2,\n",
    "    'Swansea City':2,\n",
    "    'Association Football Club Bournemouth':2,\n",
    "    'Middlesbrough FC':2,\n",
    "    'Burnley FC':2,\n",
    "    'Hull City':1,\n",
    "    'Watford FC':2\n",
    "}\n",
    "#Vamos mapear apenas para season 2016, portanto usaremos loc\n",
    "df_novo_final.loc[df_novo_final['season'] == 2016, 'forca'] = df_novo_final.loc[df_novo_final['season'] == 2016, 'name'].map(mapeamento_forca)\n",
    "df_novo_final.loc[df_novo_final['season']==2016].head(20)"
   ]
  },
  {
   "cell_type": "code",
   "execution_count": null,
   "id": "5f1510d7",
   "metadata": {},
   "outputs": [],
   "source": [
    "#Vamos para 2017\n",
    "df_novo_final.loc[df_novo_final['season']==2017].head(20)"
   ]
  },
  {
   "cell_type": "code",
   "execution_count": null,
   "id": "d60a134c",
   "metadata": {},
   "outputs": [],
   "source": [
    "#2017:\n",
    "mapeamento_forca = {\n",
    "    'Chelsea Football Club':5,\n",
    "    'Manchester City Football Club':5,\n",
    "    'Manchester United Football Club':5,\n",
    "    'Tottenham Hotspur Football Club':5,\n",
    "    'Liverpool Football Club':4,\n",
    "    'Arsenal Football Club':4,\n",
    "    'Everton Football Club':4,\n",
    "    'Leicester City Football Club':3,\n",
    "    'Southampton Football Club':3,\n",
    "    'West Ham United Football Club': 3,\n",
    "    'Stoke City':3,\n",
    "    'Crystal Palace Football Club':3,\n",
    "    'West Bromwich Albion':3,\n",
    "    'Watford FC':3,\n",
    "    'Association Football Club Bournemouth':3,\n",
    "    'Swansea City':2,\n",
    "    'Burnley FC':2,\n",
    "    'Newcastle United Football Club':2,\n",
    "    'Brighton and Hove Albion Football Club':1,\n",
    "    'Huddersfield Town':1\n",
    "}\n",
    "#Vamos mapear apenas para season 2017, portanto usaremos loc\n",
    "df_novo_final.loc[df_novo_final['season'] == 2017, 'forca'] = df_novo_final.loc[df_novo_final['season'] == 2017, 'name'].map(mapeamento_forca)\n",
    "df_novo_final.loc[df_novo_final['season']==2017].head(20)\n"
   ]
  },
  {
   "cell_type": "code",
   "execution_count": null,
   "id": "623c9256",
   "metadata": {},
   "outputs": [],
   "source": [
    "\n",
    "#mapeamento 2018:\n",
    "mapeamento_forca = {\n",
    "    'Manchester City Football Club':5,\n",
    "    'Liverpool Football Club':5,\n",
    "    'Chelsea Football Club':5,\n",
    "    'Manchester United Football Club':4,\n",
    "    'Arsenal Football Club':4,\n",
    "    'Tottenham Hotspur Football Club':4,\n",
    "    'Everton Football Club':3,\n",
    "    'Leicester City Football Club':3,\n",
    "    'West Ham United Football Club': 3,\n",
    "    'Wolverhampton Wanderers Football Club':3,\n",
    "    'Newcastle United Football Club':3,\n",
    "    'Crystal Palace Football Club':3,\n",
    "    'Association Football Club Bournemouth':3,\n",
    "    'Southampton Football Club':2,\n",
    "    'Brighton and Hove Albion Football Club':2,\n",
    "    'Watford FC':2,\n",
    "    'Burnley FC':2,\n",
    "    'Fulham Football Club':2,\n",
    "    'Huddersfield Town':1,\n",
    "    'Cardiff City':1\n",
    "}\n",
    "#Vamos mapear apenas para season 2018, portanto usaremos loc\n",
    "df_novo_final.loc[df_novo_final['season'] == 2018, 'forca'] = df_novo_final.loc[df_novo_final['season'] == 2018, 'name'].map(mapeamento_forca)\n",
    "df_novo_final.loc[df_novo_final['season']==2018].head(20)"
   ]
  },
  {
   "cell_type": "code",
   "execution_count": null,
   "id": "ba74cfd7",
   "metadata": {},
   "outputs": [],
   "source": [
    "#Vamos para 2021\n",
    "df_novo_final.loc[df_novo_final['season']==2021].head(20)"
   ]
  },
  {
   "cell_type": "code",
   "execution_count": null,
   "id": "9f161243",
   "metadata": {},
   "outputs": [],
   "source": [
    "#2021\n",
    "mapeamento_forca = {\n",
    "    'Manchester City Football Club':5,\n",
    "    'Chelsea Football Club':5,\n",
    "    'Liverpool Football Club':5,\n",
    "    'Manchester United Football Club':5,\n",
    "    'Tottenham Hotspur Football Club':4,\n",
    "    'Arsenal Football Club':4,\n",
    "    'Leicester City Football Club':4,\n",
    "    'Everton Football Club':4,\n",
    "    'West Ham United Football Club': 4,\n",
    "    'Aston Villa Football Club':3,\n",
    "    'Leeds United':3,\n",
    "    'Brighton and Hove Albion Football Club':3,\n",
    "    'Wolverhampton Wanderers Football Club':3,\n",
    "    'Southampton Football Club':3,\n",
    "    'Crystal Palace Football Club':2,\n",
    "    'Newcastle United Football Club':2,\n",
    "    'Burnley FC':2,\n",
    "    'Brentford Football Club':2,\n",
    "    'Norwich City':1,\n",
    "    'Watford FC':1\n",
    "}\n",
    "#Vamos mapear apenas para season 2021, portanto usaremos loc\n",
    "df_novo_final.loc[df_novo_final['season'] == 2021, 'forca'] = df_novo_final.loc[df_novo_final['season'] == 2021, 'name'].map(mapeamento_forca)\n",
    "df_novo_final.loc[df_novo_final['season']==2021].head(20)"
   ]
  },
  {
   "cell_type": "code",
   "execution_count": null,
   "id": "c446794c",
   "metadata": {},
   "outputs": [],
   "source": [
    "#Vamos para 2022\n",
    "df_novo_final.loc[df_novo_final['season']==2022].head(20)"
   ]
  },
  {
   "cell_type": "code",
   "execution_count": null,
   "id": "bb481037",
   "metadata": {},
   "outputs": [],
   "source": [
    "\n",
    "#2022\n",
    "mapeamento_forca = {\n",
    "    'Manchester City Football Club':5,\n",
    "    'Liverpool Football Club':5,\n",
    "    'Chelsea Football Club':5,\n",
    "    'Tottenham Hotspur Football Club':4,\n",
    "    'Manchester United Football Club':4,\n",
    "    'Arsenal Football Club':4,\n",
    "    'West Ham United Football Club': 4,\n",
    "    'Leicester City Football Club':3,\n",
    "    'Aston Villa Football Club':3,\n",
    "    'Wolverhampton Wanderers Football Club':3,\n",
    "    'Brighton and Hove Albion Football Club':3,\n",
    "    'Crystal Palace Football Club':3,\n",
    "    'Newcastle United Football Club':3,\n",
    "    'Everton Football Club':2,\n",
    "    'Southampton Football Club':2,\n",
    "    'Leeds United':2,\n",
    "    'Brentford Football Club':2,\n",
    "    'Fulham Football Club':2,\n",
    "    'Nottingham Forest Football Club':1,\n",
    "    'Association Football Club Bournemouth':1\n",
    "}\n",
    "#Vamos mapear apenas para season 2022, portanto usaremos loc\n",
    "df_novo_final.loc[df_novo_final['season'] == 2022, 'forca'] = df_novo_final.loc[df_novo_final['season'] == 2022, 'name'].map(mapeamento_forca)\n",
    "df_novo_final.loc[df_novo_final['season']==2022].head(20)"
   ]
  },
  {
   "cell_type": "code",
   "execution_count": null,
   "id": "751141b3",
   "metadata": {},
   "outputs": [],
   "source": [
    "#Vamos para 2023:\n",
    "df_novo_final.loc[df_novo_final['season']==2023].head(20)"
   ]
  },
  {
   "cell_type": "code",
   "execution_count": null,
   "id": "7ecff2de",
   "metadata": {},
   "outputs": [],
   "source": [
    "\n",
    "#2023\n",
    "mapeamento_forca = {\n",
    "    'Manchester City Football Club':5,\n",
    "    'Arsenal Football Club':5,\n",
    "    'Manchester United Football Club':5,\n",
    "    'Liverpool Football Club':5,\n",
    "    'Chelsea Football Club':4,\n",
    "    'Newcastle United Football Club':4,\n",
    "    'Brighton and Hove Albion Football Club':4,\n",
    "    'Tottenham Hotspur Football Club':4,\n",
    "    'Aston Villa Football Club':4,\n",
    "    'West Ham United Football Club': 3,\n",
    "    'Fulham Football Club':3,\n",
    "    'Brentford Football Club':3,\n",
    "    'Crystal Palace Football Club':3,\n",
    "    'Wolverhampton Wanderers Football Club':3,\n",
    "    'Everton Football Club':3,\n",
    "    'Nottingham Forest Football Club':2,\n",
    "    'Association Football Club Bournemouth':2,\n",
    "    'Burnley FC':2,\n",
    "    'Sheffield United':2,\n",
    "    'Luton Town':1\n",
    "}\n",
    "#Vamos mapear apenas para season 2023, portanto usaremos loc\n",
    "df_novo_final.loc[df_novo_final['season'] == 2023, 'forca'] = df_novo_final.loc[df_novo_final['season'] == 2023, 'name'].map(mapeamento_forca)\n",
    "df_novo_final.loc[df_novo_final['season']==2023].head(20)\n"
   ]
  },
  {
   "cell_type": "code",
   "execution_count": null,
   "id": "3ce6d543",
   "metadata": {},
   "outputs": [],
   "source": [
    "\n",
    "#2024\n",
    "mapeamento_forca = {\n",
    "    'Manchester City Football Club':5,\n",
    "    'Arsenal Football Club':5,\n",
    "    'Liverpool Football Club':5,\n",
    "    'Aston Villa Football Club':5,\n",
    "    'Chelsea Football Club':4,\n",
    "    'Manchester United Football Club':4,\n",
    "    'Tottenham Hotspur Football Club':4,\n",
    "    'Newcastle United Football Club':4,\n",
    "    'West Ham United Football Club': 4,\n",
    "    'Brighton and Hove Albion Football Club':3,\n",
    "    'Wolverhampton Wanderers Football Club':3,\n",
    "    'Crystal Palace Football Club':3,\n",
    "    'Fulham Football Club':3,\n",
    "    'Everton Football Club':3,\n",
    "    'Brentford Football Club':2,\n",
    "    'Association Football Club Bournemouth':2,\n",
    "    'Nottingham Forest Football Club':2,\n",
    "    'Leicester City Football Club':2,\n",
    "    'Ipswich Town Football Club':1,\n",
    "    'Southampton Football Club':1\n",
    "}\n",
    "#Vamos mapear apenas para season 2024, portanto usaremos loc\n",
    "df_novo_final.loc[df_novo_final['season'] == 2024, 'forca'] = df_novo_final.loc[df_novo_final['season'] == 2024, 'name'].map(mapeamento_forca)\n",
    "df_novo_final.loc[df_novo_final['season']==2024].head(20)"
   ]
  },
  {
   "cell_type": "markdown",
   "id": "0581ed4f",
   "metadata": {},
   "source": [
    "# Ufa, finalmente acabamos as forças dos times!\n",
    "Agora vamos montar um novo df e treinar usando o KNN como fizemos antes para comparamos os resultados"
   ]
  },
  {
   "cell_type": "code",
   "execution_count": null,
   "id": "02e78456",
   "metadata": {},
   "outputs": [],
   "source": [
    "#Vamos montar um novo dataframe \n",
    "novo_tf_com_forcas = df_novo_final[['season', 'last_position', 'total_points_10', 'vitorias', 'derrotas', 'empates', 'casa', 'fora','gols_pro','gols_sofridos','saldo_gols','jogos_sem_perder','recem_promovido','forca']].copy()\n",
    "#Vamos ver o novo dataframe\n",
    "novo_tf_com_forcas.head(20)"
   ]
  },
  {
   "cell_type": "code",
   "execution_count": null,
   "id": "96f3902d",
   "metadata": {},
   "outputs": [],
   "source": [
    "#Vamos separar X e y \n",
    "X = novo_tf_com_forcas.drop(columns=['last_position'])\n",
    "#Vamos separar nosso x test e x train de acordo com as temporadas.\n",
    "X_train = X[X['season'] != 2024]\n",
    "X_test = X[X['season'] == 2024]\n",
    "# Agora vamos separar y para ser apenas a coluna last_position\n",
    "y_train = novo_tf_com_forcas[novo_tf_com_forcas['season'] != 2024]['last_position']\n",
    "y_test = novo_tf_com_forcas[novo_tf_com_forcas['season'] == 2024]['last_position']"
   ]
  },
  {
   "cell_type": "code",
   "execution_count": null,
   "id": "1242cd8b",
   "metadata": {},
   "outputs": [],
   "source": [
    "#Vamos aplicar o scaler nos dados de treino e teste\n",
    "scaler = MinMaxScaler(feature_range=(0,1))"
   ]
  },
  {
   "cell_type": "code",
   "execution_count": null,
   "id": "e14dd990",
   "metadata": {},
   "outputs": [],
   "source": [
    "#Vamos aplicar o scaler nos dados de treino e teste\n",
    "X_train = scaler.fit_transform(X_train)\n",
    "X_test = scaler.fit_transform(X_test)"
   ]
  },
  {
   "cell_type": "code",
   "execution_count": null,
   "id": "2eeebe06",
   "metadata": {},
   "outputs": [],
   "source": [
    "knn = KNeighborsClassifier(n_neighbors=4)"
   ]
  },
  {
   "cell_type": "code",
   "execution_count": null,
   "id": "46e34167",
   "metadata": {},
   "outputs": [],
   "source": [
    "knn.fit(X_train, y_train)"
   ]
  },
  {
   "cell_type": "code",
   "execution_count": null,
   "id": "d9bb3c1b",
   "metadata": {},
   "outputs": [],
   "source": [
    "y_pred = knn.predict(X_test)"
   ]
  },
  {
   "cell_type": "code",
   "execution_count": null,
   "id": "85165c58",
   "metadata": {},
   "outputs": [],
   "source": [
    "print(f\"Predições: {y_pred}\")"
   ]
  },
  {
   "cell_type": "code",
   "execution_count": null,
   "id": "3c580ee7",
   "metadata": {},
   "outputs": [],
   "source": [
    "#Vamos ver a acurácia do modelo\n",
    "acuracia = accuracy_score(y_test, y_pred)\n",
    "print(f\"Acurácia do modelo: {acuracia:.2f}\")"
   ]
  },
  {
   "cell_type": "code",
   "execution_count": null,
   "id": "dfb8f54b",
   "metadata": {},
   "outputs": [],
   "source": [
    "#Vamos printar o dataframe com o nome dos times na season 2024\n",
    "df_final_com_pontos = pd.read_csv('df_final_premier_league.csv')\n",
    "#Vamos criar um novo dataframe com as predições\n",
    "df_predicoes = pd.DataFrame({\n",
    "    'name': df_final_com_pontos[df_final_com_pontos['season'] == 2024]['name'].values,\n",
    "    'last_position': y_pred\n",
    "})\n",
    "#Vamos ver o dataframe de predições\n",
    "print(df_predicoes.head(20))"
   ]
  }
 ],
 "metadata": {
  "language_info": {
   "name": "python"
  }
 },
 "nbformat": 4,
 "nbformat_minor": 5
}
